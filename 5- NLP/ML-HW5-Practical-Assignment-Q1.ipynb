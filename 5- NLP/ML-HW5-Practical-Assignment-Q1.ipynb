{
 "cells": [
  {
   "cell_type": "markdown",
   "metadata": {
    "id": "0QOmoitc9qC4"
   },
   "source": [
    "<br>\n",
    "<font>\n",
    "<div dir=ltr align=center>\n",
    "<img src=\"https://cdn.freebiesupply.com/logos/large/2x/sharif-logo-png-transparent.png\" width=150 height=150> <br>\n",
    "<font color=0F5298 size=7>\n",
    "    Machine learning <br>\n",
    "<font color=2565AE size=5>\n",
    "    Computer Engineering Department <br>\n",
    "    Fall 2024<br>\n",
    "<font color=3C99D size=5>\n",
    "    Practical Assignment 5 - NLP - Skip-Gram <br>\n",
    "<font color=0CBCDF size=4>\n",
    "   &#x1F335; Amirhossein Akbari  &#x1F335;\n",
    "</div>\n",
    "\n",
    "____"
   ]
  },
  {
   "cell_type": "markdown",
   "metadata": {
    "id": "35Y0nSE3-wuW"
   },
   "source": [
    "<font color=9999FF size=4>\n",
    "&#x1F388; Full Name : Parsa Ghezelbash\n",
    "<br>\n",
    "<font color=9999FF size=4>\n",
    "&#x1F388; Student Number : 401110437"
   ]
  },
  {
   "cell_type": "markdown",
   "metadata": {
    "id": "i4spZpsq_Pxf"
   },
   "source": [
    "<font color=0080FF size=3>\n",
    "This notebook explores word embeddings, compact and dense vector representations of words that capture their textual meaning. This notebook focusing on implementing the Word2Vec algorithm using the Skip-gram architecture and negative sampling.\n",
    "</font>\n",
    "<br>\n",
    "\n",
    "**Note:**\n",
    "<br>\n",
    "<font color=66B2FF size=2>In this notebook, you are free to use any function or model from TensorFlow to assist with the implementation. However, PyTorch is not permitted for this exercise. This ensures consistency and alignment with the tools being focused on.</font>\n",
    "<br>\n",
    "<font color=red size=3>**Run All Cells Before Submission**</font>: <font color=FF99CC size=2>Before saving and submitting your notebook, please ensure you run all cells from start to finish. This practice guarantees that your notebook is self-consistent and can be evaluated correctly by others.</font>"
   ]
  },
  {
   "cell_type": "markdown",
   "metadata": {
    "id": "hZCaUs-3FsJk"
   },
   "source": [
    "<font color=#ffb578 size=3>\n",
    "you are free to modify, add, or remove any cells as you see fit to complete your tasks. Feel free to change any of the provided code or content to better suit your understanding and approach to the problems.\n",
    "\n",
    "- **Questions**: If you have any questions or require clarifications as you work through the notebook, please do not hesitate to ask. You can post your queries on Quera or reach out via Telegram.\n",
    "- **Feedback**: We encourage you to seek feedback and engage in discussions to enhance your learning experience and improve your solutions.\n",
    "</font>"
   ]
  },
  {
   "cell_type": "code",
   "execution_count": 1,
   "metadata": {
    "colab": {
     "base_uri": "https://localhost:8080/"
    },
    "execution": {
     "iopub.execute_input": "2025-01-05T21:07:29.975287Z",
     "iopub.status.busy": "2025-01-05T21:07:29.974997Z",
     "iopub.status.idle": "2025-01-05T21:07:44.708210Z",
     "shell.execute_reply": "2025-01-05T21:07:44.707319Z",
     "shell.execute_reply.started": "2025-01-05T21:07:29.975256Z"
    },
    "id": "hoV5vSSSbIp0",
    "outputId": "bc730d5e-2aa8-4bac-dc35-d94c178e8d16",
    "papermill": {
     "duration": 8.238801,
     "end_time": "2020-10-10T13:12:49.471884",
     "exception": false,
     "start_time": "2020-10-10T13:12:41.233083",
     "status": "completed"
    },
    "tags": [],
    "trusted": true
   },
   "outputs": [
    {
     "name": "stdout",
     "output_type": "stream",
     "text": [
      "[nltk_data] Downloading package stopwords to /usr/share/nltk_data...\n",
      "[nltk_data]   Package stopwords is already up-to-date!\n"
     ]
    }
   ],
   "source": [
    "import io\n",
    "import math\n",
    "import gzip\n",
    "import nltk\n",
    "import time\n",
    "import random\n",
    "import numpy as np\n",
    "import tensorflow as tf\n",
    "import gensim.downloader as api\n",
    "import tensorflow_datasets as tfds\n",
    "nltk.download('stopwords')\n",
    "\n",
    "from collections import Counter\n",
    "from nltk.corpus import stopwords\n",
    "from tensorflow.keras.preprocessing.text import Tokenizer\n",
    "from tensorflow.keras.preprocessing.sequence import skipgrams\n",
    "\n",
    "from sklearn.model_selection import train_test_split\n"
   ]
  },
  {
   "cell_type": "markdown",
   "metadata": {
    "id": "3pwuegqx-JWf",
    "papermill": {
     "duration": 0.023154,
     "end_time": "2020-10-10T13:12:49.521385",
     "exception": false,
     "start_time": "2020-10-10T13:12:49.498231",
     "status": "completed"
    },
    "tags": []
   },
   "source": [
    "### Downloading Dataset\n",
    "We're going to use text8 dataset. Text8 is first 100,000,000 bytes of plain text from Wikipedia. It's mainly used for testing purposes."
   ]
  },
  {
   "cell_type": "code",
   "execution_count": 2,
   "metadata": {
    "execution": {
     "iopub.execute_input": "2025-01-05T21:07:44.709975Z",
     "iopub.status.busy": "2025-01-05T21:07:44.709409Z",
     "iopub.status.idle": "2025-01-05T21:07:44.802444Z",
     "shell.execute_reply": "2025-01-05T21:07:44.801481Z",
     "shell.execute_reply.started": "2025-01-05T21:07:44.709950Z"
    },
    "trusted": true
   },
   "outputs": [
    {
     "name": "stdout",
     "output_type": "stream",
     "text": [
      "Num GPUs Available:  1\n"
     ]
    }
   ],
   "source": [
    "print(\"Num GPUs Available: \", len(tf.config.list_physical_devices('GPU')))\n"
   ]
  },
  {
   "cell_type": "code",
   "execution_count": 3,
   "metadata": {
    "colab": {
     "base_uri": "https://localhost:8080/"
    },
    "execution": {
     "iopub.execute_input": "2025-01-05T21:07:44.803758Z",
     "iopub.status.busy": "2025-01-05T21:07:44.803253Z",
     "iopub.status.idle": "2025-01-05T21:07:45.868360Z",
     "shell.execute_reply": "2025-01-05T21:07:45.867418Z",
     "shell.execute_reply.started": "2025-01-05T21:07:44.803719Z"
    },
    "id": "XG-FjuVEFLGW",
    "outputId": "9d1e8f9a-8712-40e9-ddca-1e1ef563bd94",
    "papermill": {
     "duration": 14.234694,
     "end_time": "2020-10-10T13:13:03.779495",
     "exception": false,
     "start_time": "2020-10-10T13:12:49.544801",
     "status": "completed"
    },
    "tags": [],
    "trusted": true
   },
   "outputs": [],
   "source": [
    "def load_data():\n",
    "  text8_zip_file_path = api.load('text8', return_path=True)\n",
    "  with gzip.open(text8_zip_file_path, 'rb') as file:\n",
    "    file_content = file.read()\n",
    "  wiki = file_content.decode()\n",
    "  return wiki\n",
    "\n",
    "wiki = load_data()"
   ]
  },
  {
   "cell_type": "markdown",
   "metadata": {
    "id": "QYBT_-Vy_af4",
    "papermill": {
     "duration": 1.449897,
     "end_time": "2020-10-10T13:13:06.611079",
     "exception": false,
     "start_time": "2020-10-10T13:13:05.161182",
     "status": "completed"
    },
    "tags": []
   },
   "source": [
    "### Preprocessing data\n",
    "\n",
    "**Stopwords removal** - Begin by removing stopwords from the dataset, as they provide little to no value in learning word embeddings. Ensure your preprocessing pipeline filters out commonly used words such as \"the,\" \"and,\" or \"of\" that do not contribute to meaningful semantic relationships.\n",
    "\n",
    "---\n",
    "\n",
    "**Subsampling words** - In a large corpora, most frequent words can easily occur hundreds of millions of times and such words usually don't bring much information to the table.  It is of essential importance to cut down on their frequencies to mitigate the negative impact it adds. For example, co-occurrences of \"English\" and \"Spanish\" benefit much more than co-occurrences of \"English\" and \"the\" or \"Spanish\" and \"of\". To counter the imbalance between rare and frequent words Mikolov et. al came up with the following heuristic formula for determining probability to drop a particular word:\n",
    "\n",
    "![formula.png](data:image/png;base64,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)\n",
    "\n",
    "where t is threshold value (heuristically set to 1e-5) and f(w) is frequency of the word.\n",
    "\n",
    "Implement a subsampling mechanism to handle overly frequent words in the corpus. Use the heuristic formula provided by Mikolov et al. to calculate the probability of dropping a word based on its frequency. This step ensures the corpus maintains a balance between rare and frequent words, improving the quality of word co-occurrence relationships.\n",
    "\n",
    "---\n",
    "\n",
    "**Filtering words** - Filter out words that occur only once in the dataset, as they lack sufficient context to be represented effectively. Retain only those words that appear at least five times in the corpus to minimize noise and enhance the overall quality of the embeddings.\n"
   ]
  },
  {
   "cell_type": "code",
   "execution_count": 4,
   "metadata": {
    "execution": {
     "iopub.execute_input": "2025-01-05T21:07:45.869677Z",
     "iopub.status.busy": "2025-01-05T21:07:45.869325Z",
     "iopub.status.idle": "2025-01-05T21:07:45.876194Z",
     "shell.execute_reply": "2025-01-05T21:07:45.875267Z",
     "shell.execute_reply.started": "2025-01-05T21:07:45.869645Z"
    },
    "id": "wp50T2OqA-7L",
    "papermill": {
     "duration": 3.4315,
     "end_time": "2020-10-10T13:13:11.452631",
     "exception": false,
     "start_time": "2020-10-10T13:13:08.021131",
     "status": "completed"
    },
    "tags": [],
    "trusted": true
   },
   "outputs": [],
   "source": [
    "def preprocess_text(text):\n",
    "  # Step 1: Replace punctuation with tokens to standardize the text for processing\n",
    "  # Example: Replace '.', ',', and other punctuation marks with specific tokens\n",
    "  punctuation = '!\"#$%&()*+,-./:;<=>?@[\\\\]^_`{|}~'\n",
    "  text = text.translate(str.maketrans('', '', punctuation))\n",
    "\n",
    "  # Step 2: Convert text to lowercase and remove unnecessary whitespaces\n",
    "  # Example: Apply text.lower() and text.strip()\n",
    "  text = text.lower()\n",
    "  text = text.strip()\n",
    "\n",
    "  # Step 3: Remove stopwords from the text\n",
    "  # Example: Filter out common words such as 'the', 'and', 'of' using a predefined stopwords list\n",
    "  stop_words = set(stopwords.words('english'))\n",
    "  words = text.split()\n",
    "  words = [word for word in words if word not in stop_words]\n",
    "\n",
    "  # Step 4: Remove words with frequency less than 5\n",
    "  # Example: Count word frequencies and filter words appearing fewer than 5 times\n",
    "  word_counts = Counter(words)\n",
    "  trimmed_words = [word for word in words if word_counts[word] >= 5]\n",
    "\n",
    "  # Step 5: Subsample words using a threshold value (e.g., 1e-5)\n",
    "  # Example: Implement the subsampling heuristic to reduce the frequency of overly common words\n",
    "  total_words = len(trimmed_words)\n",
    "  word_freqs = {word: count / total_words for word, count in word_counts.items()}\n",
    "  subsampled_words = [word for word in trimmed_words if random.random() < (1 / math.sqrt(word_freqs[word] / 1e-5))]\n",
    "\n",
    "  # Return the processed words and word counts\n",
    "  return subsampled_words, word_counts"
   ]
  },
  {
   "cell_type": "markdown",
   "metadata": {
    "id": "4260B2ZFJ_EA",
    "papermill": {
     "duration": 1.777391,
     "end_time": "2020-10-10T13:13:14.603396",
     "exception": false,
     "start_time": "2020-10-10T13:13:12.826005",
     "status": "completed"
    },
    "tags": []
   },
   "source": [
    "It's always a good idea to take a quick look at preprocessed sample before heading further - you might observe few things that if handled can enrich or correct your data. More like a validation step this."
   ]
  },
  {
   "cell_type": "code",
   "execution_count": 5,
   "metadata": {
    "execution": {
     "iopub.execute_input": "2025-01-05T21:07:45.879175Z",
     "iopub.status.busy": "2025-01-05T21:07:45.878893Z",
     "iopub.status.idle": "2025-01-05T21:07:55.792299Z",
     "shell.execute_reply": "2025-01-05T21:07:55.791367Z",
     "shell.execute_reply.started": "2025-01-05T21:07:45.879147Z"
    },
    "id": "_oNvdt-v1dw0",
    "papermill": {
     "duration": 1.689149,
     "end_time": "2020-10-10T13:13:17.668521",
     "exception": false,
     "start_time": "2020-10-10T13:13:15.979372",
     "status": "completed"
    },
    "tags": [],
    "trusted": true
   },
   "outputs": [
    {
     "name": "stdout",
     "output_type": "stream",
     "text": [
      "['coercion', 'anarchists', 'ultimately', 'third', 'communists', 'fascists', 'criticizes', 'willingness', 'cnt', 'join', 'statist', 'stanley', 'payne', 'franco', 'regime', 'cnt', 'negotiations', 'fascist', 'noam', 'chomsky', 'anarchism', 'easily', 'represented', 'celebrities', 'publicly', 'anarchists', 'anarchists', 'reject', 'focus', 'examples', 'publicly', 'avowed', 'anarchists', 'mit', 'linguistics', 'noam', 'chomsky', 'ursula', 'guin', 'historian', 'zinn', 'entertainer', 'author', 'hans', 'avant', 'garde', 'artist', 'nicol', 'freetown', 'christiania']\n"
     ]
    }
   ],
   "source": [
    "# Take a quick look at a slice of preprocessed words (e.g., index 1500 to 1550)\n",
    "subsampled_words, word_counts = preprocess_text(wiki)\n",
    "print(subsampled_words[1500:1550])"
   ]
  },
  {
   "cell_type": "markdown",
   "metadata": {
    "id": "lCkFtaa_KrTb",
    "papermill": {
     "duration": 1.426874,
     "end_time": "2020-10-10T13:13:20.673211",
     "exception": false,
     "start_time": "2020-10-10T13:13:19.246337",
     "status": "completed"
    },
    "tags": []
   },
   "source": [
    "### Hyperparameters\n",
    "Setting a few hyperparamters required for gnerating batches and for deciding the size of word embeddings.\n",
    "\n"
   ]
  },
  {
   "cell_type": "code",
   "execution_count": 6,
   "metadata": {
    "execution": {
     "iopub.execute_input": "2025-01-05T21:07:55.793788Z",
     "iopub.status.busy": "2025-01-05T21:07:55.793547Z",
     "iopub.status.idle": "2025-01-05T21:07:55.798156Z",
     "shell.execute_reply": "2025-01-05T21:07:55.797198Z",
     "shell.execute_reply.started": "2025-01-05T21:07:55.793768Z"
    },
    "id": "mJLzBkSIKoMx",
    "papermill": {
     "duration": 1.447402,
     "end_time": "2020-10-10T13:13:23.486929",
     "exception": false,
     "start_time": "2020-10-10T13:13:22.039527",
     "status": "completed"
    },
    "tags": [],
    "trusted": true
   },
   "outputs": [],
   "source": [
    "EMBEDDING_DIM = 128\n",
    "BUFFER_SIZE = 10000\n",
    "BATCH_SIZE = 128\n",
    "EPOCHS = 5"
   ]
  },
  {
   "cell_type": "markdown",
   "metadata": {
    "id": "0oO7N0ZsLofI",
    "papermill": {
     "duration": 1.481198,
     "end_time": "2020-10-10T13:13:26.663213",
     "exception": false,
     "start_time": "2020-10-10T13:13:25.182015",
     "status": "completed"
    },
    "tags": []
   },
   "source": [
    "### Preparing TensorFlow Dataset using Skipgrams\n",
    "\n",
    "**Generating Skipgrams**\n",
    "\n",
    "Tokenize your preprocessed textual data and convert the words into their corresponding vectorized tokens. Then, use the `skipgrams` function provided by Keras to generate (word, context) pairs. Ensure the following steps are completed:\n",
    "\n",
    "- Generate positive samples: (word, word in the same window), with label 1.  \n",
    "- Generate negative samples: (word, random word from the vocabulary), with label 0.  \n",
    "\n",
    "Refer to Mikolov et al.'s paper, [Efficient Estimation of Word Representations in Vector Space](https://arxiv.org/pdf/1301.3781v3.pdf), for more details on Skipgrams.\n",
    "\n",
    "---\n",
    "\n",
    "**Negative Sampling**\n",
    "\n",
    "For each input word, implement the negative sampling approach to optimize the training process. Transform the problem of predicting context words into independent binary classification tasks. For every (target, context) pair, generate random negative (target, ~context) samples. This step will reduce computational complexity and make training more efficient.\n"
   ]
  },
  {
   "cell_type": "code",
   "execution_count": 7,
   "metadata": {
    "execution": {
     "iopub.execute_input": "2025-01-05T21:07:55.799064Z",
     "iopub.status.busy": "2025-01-05T21:07:55.798874Z",
     "iopub.status.idle": "2025-01-05T21:21:06.152805Z",
     "shell.execute_reply": "2025-01-05T21:21:06.151939Z",
     "shell.execute_reply.started": "2025-01-05T21:07:55.799047Z"
    },
    "id": "Uq4-jfYOjonO",
    "papermill": {
     "duration": 34.646886,
     "end_time": "2020-10-10T13:14:02.707124",
     "exception": false,
     "start_time": "2020-10-10T13:13:28.060238",
     "status": "completed"
    },
    "tags": [],
    "trusted": true
   },
   "outputs": [],
   "source": [
    "# Step 1: Initialize and fit the tokenizer on preprocessed words\n",
    "# Tokenize the preprocessed words and create a vocabulary index\n",
    "tokenizer = Tokenizer()\n",
    "tokenizer.fit_on_texts(subsampled_words)\n",
    "\n",
    "# Step 2: Vectorize the words using the tokenizer's word index\n",
    "# Convert the preprocessed words into vectorized tokens\n",
    "word_seqs = tokenizer.texts_to_sequences([subsampled_words])[0]\n",
    "\n",
    "# Step 3: Generate skipgram pairs and labels\n",
    "# Use the skipgrams function to create (word, context) pairs with their labels\n",
    "window_size = 5\n",
    "skip_grams, labels = skipgrams(word_seqs, vocabulary_size=len(tokenizer.word_index)+1, window_size=window_size, negative_samples=1.0)\n",
    "\n",
    "# Step 4: Extract target and context words from the generated pairs\n",
    "# Separate the target words and context words for training\n",
    "targets, contexts = zip(*skip_grams)\n",
    "targets = np.array(targets, dtype=\"int32\")\n",
    "contexts = np.array(contexts, dtype=\"int32\")\n",
    "labels = np.array(labels, dtype=\"int32\")\n",
    "\n",
    "# Step 5: Split the data into training and testing sets\n",
    "# Define a sample size and divide the data into training and testing subsets\n",
    "X_train, X_test, y_train, y_test = train_test_split(\n",
    "    list(zip(targets, contexts)), labels, test_size=0.2, random_state=42\n",
    ")\n",
    "\n",
    "# Step 6: Create TensorFlow datasets\n",
    "# Prepare TensorFlow datasets for training and testing with appropriate batching and shuffling\n",
    "train_dataset = tf.data.Dataset.from_tensor_slices((X_train, y_train))\n",
    "train_dataset = train_dataset.shuffle(BUFFER_SIZE).batch(BATCH_SIZE, drop_remainder=True)\n",
    "\n",
    "test_dataset = tf.data.Dataset.from_tensor_slices((X_test, y_test))\n",
    "test_dataset = test_dataset.batch(BATCH_SIZE, drop_remainder=True)"
   ]
  },
  {
   "cell_type": "code",
   "execution_count": 8,
   "metadata": {
    "execution": {
     "iopub.execute_input": "2025-01-05T21:21:06.154279Z",
     "iopub.status.busy": "2025-01-05T21:21:06.153713Z",
     "iopub.status.idle": "2025-01-05T21:24:32.856314Z",
     "shell.execute_reply": "2025-01-05T21:24:32.855448Z",
     "shell.execute_reply.started": "2025-01-05T21:21:06.154243Z"
    },
    "id": "JRHxw7X4zOpg",
    "outputId": "93baea2c-a55c-432b-fbe3-831c5ba43785",
    "papermill": {
     "duration": 8.912486,
     "end_time": "2020-10-10T13:14:12.985042",
     "exception": false,
     "start_time": "2020-10-10T13:14:04.072556",
     "status": "completed"
    },
    "tags": [],
    "trusted": true
   },
   "outputs": [
    {
     "name": "stdout",
     "output_type": "stream",
     "text": [
      "Number of training batches: 476327\n",
      "Number of testing batches: 119081\n"
     ]
    }
   ],
   "source": [
    "# Print the number of batches in the training and testing datasets\n",
    "print(f\"Number of training batches: {len(list(train_dataset))}\")\n",
    "print(f\"Number of testing batches: {len(list(test_dataset))}\")"
   ]
  },
  {
   "cell_type": "markdown",
   "metadata": {
    "id": "VUatOx50OXF1",
    "papermill": {
     "duration": 1.350656,
     "end_time": "2020-10-10T13:14:15.692486",
     "exception": false,
     "start_time": "2020-10-10T13:14:14.341830",
     "status": "completed"
    },
    "tags": []
   },
   "source": [
    "### Building the Model\n",
    "\n",
    "Use the model subclassing method to build your model. While Sequential and Functional APIs are generally more suitable for most use cases, model subclassing allows you to create the model in an object-oriented way. Follow these steps:\n",
    "\n",
    "1. Define a custom model class by inheriting from `tf.keras.Model`.\n",
    "2. Implement the `__init__` method to define the layers of your model.\n",
    "3. Override the `call` method to define the forward pass of your model.\n",
    "4. Ensure that the model includes embedding layers, a skip-gram architecture, and any other necessary components for training.\n"
   ]
  },
  {
   "cell_type": "code",
   "execution_count": 9,
   "metadata": {
    "execution": {
     "iopub.execute_input": "2025-01-05T21:24:32.857389Z",
     "iopub.status.busy": "2025-01-05T21:24:32.857166Z",
     "iopub.status.idle": "2025-01-05T21:24:33.932798Z",
     "shell.execute_reply": "2025-01-05T21:24:33.931758Z",
     "shell.execute_reply.started": "2025-01-05T21:24:32.857354Z"
    },
    "id": "6gLxFZ9Eu9Tw",
    "papermill": {
     "duration": 1.935377,
     "end_time": "2020-10-10T13:14:19.277030",
     "exception": false,
     "start_time": "2020-10-10T13:14:17.341653",
     "status": "completed"
    },
    "tags": [],
    "trusted": true
   },
   "outputs": [
    {
     "name": "stdout",
     "output_type": "stream",
     "text": [
      "Model output shape: (4, 1)\n",
      "Model output: [[0.50293034]\n",
      " [0.4941843 ]\n",
      " [0.5002085 ]\n",
      " [0.49359608]]\n"
     ]
    }
   ],
   "source": [
    "# Step 1: Create a custom model class by subclassing `tf.keras.Model`\n",
    "# Define a class that inherits from the Keras Model class\n",
    "class SkipGramModel(tf.keras.Model):\n",
    "# Step 2: Initialize the layers in the `__init__` method\n",
    "# Define all the layers such as embedding, dense, or output layers\n",
    "    def __init__(self, vocab_size, embedding_dim):\n",
    "        super(SkipGramModel, self).__init__()\n",
    "        \n",
    "        self.embedding = tf.keras.layers.Embedding(\n",
    "            input_dim=vocab_size, output_dim=embedding_dim, name=\"embedding_layer\"\n",
    "        )\n",
    "        self.dense = tf.keras.layers.Dense(1, activation='sigmoid', name=\"output_layer\")\n",
    "\n",
    "# Step 3: Implement the forward pass in the `call` method\n",
    "# Define how the input data flows through the model to produce the output\n",
    "    def call(self, inputs):\n",
    "        # Step 3: Implement the forward pass\n",
    "        target_input = inputs[:, 0]\n",
    "        context_input = inputs[:, 1]\n",
    "        \n",
    "        # Look up embeddings for target and context words\n",
    "        target_embedding = self.embedding(target_input)   # Shape: (batch_size, embedding_dim)\n",
    "        context_embedding = self.embedding(context_input) # Shape: (batch_size, embedding_dim)\n",
    "        \n",
    "        # Compute dot product between target and context embeddings\n",
    "        dot_product = tf.reduce_sum(target_embedding * context_embedding, axis=1)  # Shape: (batch_size,)\n",
    "        \n",
    "        # Pass the dot product through the dense layer to get probabilities\n",
    "        output = self.dense(tf.expand_dims(dot_product, axis=-1))  # Shape: (batch_size, 1)\n",
    "        \n",
    "        return output\n",
    "\n",
    "# Step 4: Ensure the model implements the skip-gram architecture\n",
    "# Include logic for embedding lookups and processing positive and negative samples\n",
    "\n",
    "# Step 5: Verify that the model structure aligns with the objective\n",
    "# Test the forward pass to ensure proper layer connections and outputs\n",
    "vocab_size = len(tokenizer.word_index) + 1\n",
    "embedding_dim = EMBEDDING_DIM\n",
    "\n",
    "skipgram_model = SkipGramModel(vocab_size, embedding_dim)\n",
    "\n",
    "sample_targets = tf.constant([1, 2, 3, 4])      # Example target word indices\n",
    "sample_contexts = tf.constant([5, 6, 7, 8])     # Example context word indices\n",
    "\n",
    "sample_inputs = tf.stack([sample_targets, sample_contexts], axis=1)\n",
    "\n",
    "output = skipgram_model(sample_inputs)\n",
    "\n",
    "print(\"Model output shape:\", output.shape)\n",
    "print(\"Model output:\", output.numpy())\n"
   ]
  },
  {
   "cell_type": "markdown",
   "metadata": {
    "id": "RN3SV3zv0pXG",
    "papermill": {
     "duration": 1.56129,
     "end_time": "2020-10-10T13:14:22.236946",
     "exception": false,
     "start_time": "2020-10-10T13:14:20.675656",
     "status": "completed"
    },
    "tags": []
   },
   "source": [
    "### Loss function, Metrics and Optimizers"
   ]
  },
  {
   "cell_type": "code",
   "execution_count": 10,
   "metadata": {
    "execution": {
     "iopub.execute_input": "2025-01-05T21:24:33.934149Z",
     "iopub.status.busy": "2025-01-05T21:24:33.933803Z",
     "iopub.status.idle": "2025-01-05T21:24:33.949733Z",
     "shell.execute_reply": "2025-01-05T21:24:33.949077Z",
     "shell.execute_reply.started": "2025-01-05T21:24:33.934115Z"
    },
    "id": "ENLrMWOtpixA",
    "papermill": {
     "duration": 1.420264,
     "end_time": "2020-10-10T13:14:25.068193",
     "exception": false,
     "start_time": "2020-10-10T13:14:23.647929",
     "status": "completed"
    },
    "tags": [],
    "trusted": true
   },
   "outputs": [],
   "source": [
    "optimizer = tf.keras.optimizers.Adam(learning_rate=0.001)\n",
    "loss_fn = tf.keras.losses.BinaryCrossentropy(from_logits=False)\n",
    "train_acc_metric = tf.keras.metrics.BinaryAccuracy(name=\"train_accuracy\")\n",
    "val_acc_metric = tf.keras.metrics.BinaryAccuracy(name=\"val_accuracy\")"
   ]
  },
  {
   "cell_type": "markdown",
   "metadata": {
    "id": "7eyQ_o1EWuJA",
    "papermill": {
     "duration": 1.384257,
     "end_time": "2020-10-10T13:14:27.862984",
     "exception": false,
     "start_time": "2020-10-10T13:14:26.478727",
     "status": "completed"
    },
    "tags": []
   },
   "source": [
    "### Training the Model\n",
    "\n",
    "Implement custom training for learning word embeddings to gain finer control over optimization and training tasks. Follow these steps:\n",
    "\n",
    "1. Define a custom training loop that includes forward propagation, loss computation, and backpropagation.\n",
    "2. Use the optimizer of your choice to update the model's weights based on the computed gradients.\n",
    "3. Implement batching for efficient data processing during training.\n",
    "4. Monitor the loss during each epoch to track the model's performance.\n",
    "5. Save the trained embeddings for later use once the training is complete."
   ]
  },
  {
   "cell_type": "code",
   "execution_count": 11,
   "metadata": {
    "execution": {
     "iopub.execute_input": "2025-01-05T21:24:33.951019Z",
     "iopub.status.busy": "2025-01-05T21:24:33.950691Z",
     "iopub.status.idle": "2025-01-06T00:33:12.799737Z",
     "shell.execute_reply": "2025-01-06T00:33:12.798665Z",
     "shell.execute_reply.started": "2025-01-05T21:24:33.950988Z"
    },
    "id": "oHNb85OL29hu",
    "outputId": "dcf63bef-59c9-4fe9-d15f-9bf4624815de",
    "papermill": {
     "duration": 1336.991023,
     "end_time": "2020-10-10T13:36:46.205587",
     "exception": false,
     "start_time": "2020-10-10T13:14:29.214564",
     "status": "completed"
    },
    "tags": [],
    "trusted": true
   },
   "outputs": [
    {
     "name": "stdout",
     "output_type": "stream",
     "text": [
      "Starting epoch: 0\n",
      "Training acc over epoch: 0.7564\n",
      "Cumulative loss: 243831.5737\n",
      "Validation acc over epoch: 0.7724\n",
      "Cumulative test loss: 58146.2951\n",
      "Time taken: 2289.57s\n",
      "\n",
      "Starting epoch: 1\n",
      "Training acc over epoch: 0.7781\n",
      "Cumulative loss: 228621.7501\n",
      "Validation acc over epoch: 0.7744\n",
      "Cumulative test loss: 58831.8390\n",
      "Time taken: 2264.96s\n",
      "\n",
      "Starting epoch: 2\n",
      "Training acc over epoch: 0.7844\n",
      "Cumulative loss: 224161.9122\n",
      "Validation acc over epoch: 0.7835\n",
      "Cumulative test loss: 55890.7048\n",
      "Time taken: 2251.98s\n",
      "\n",
      "Starting epoch: 3\n",
      "Training acc over epoch: 0.7888\n",
      "Cumulative loss: 221138.7160\n",
      "Validation acc over epoch: 0.7792\n",
      "Cumulative test loss: 57627.2160\n",
      "Time taken: 2251.12s\n",
      "\n",
      "Starting epoch: 4\n",
      "Training acc over epoch: 0.7923\n",
      "Cumulative loss: 218711.4032\n",
      "Validation acc over epoch: 0.7865\n",
      "Cumulative test loss: 56948.1423\n",
      "Time taken: 2261.21s\n",
      "\n"
     ]
    }
   ],
   "source": [
    "# Step 1: Define the training step\n",
    "# Create a `train_step` function using `tf.GradientTape` to compute predictions, calculate loss, and apply gradients to update model weights\n",
    "@tf.function\n",
    "def train_step(model, optimizer, loss_fn, train_acc_metric, inputs, labels):\n",
    "    with tf.GradientTape() as tape:\n",
    "        predictions = model(inputs, training=True)\n",
    "        loss = loss_fn(labels, predictions)\n",
    "    \n",
    "    gradients = tape.gradient(loss, model.trainable_weights)\n",
    "    optimizer.apply_gradients(zip(gradients, model.trainable_weights))\n",
    "    \n",
    "    train_acc_metric.update_state(labels, predictions)\n",
    "    \n",
    "    return loss    \n",
    "\n",
    "# Step 2: Define the testing step\n",
    "# Create a `test_step` function to compute predictions and calculate validation loss without updating the model weights\n",
    "@tf.function\n",
    "def test_step(model, loss_fn, val_acc_metric, inputs, labels):\n",
    "    predictions = model(inputs, training=False)\n",
    "    loss = loss_fn(labels, predictions)\n",
    "    \n",
    "    val_acc_metric.update_state(labels, predictions)\n",
    "    \n",
    "    return loss\n",
    "\n",
    "# Step 3: Initialize the training loop\n",
    "# Set up a loop to iterate over epochs and train the model for the defined number of iterations\n",
    "num_epochs = EPOCHS\n",
    "with tf.device('/GPU:0'):\n",
    "    for epoch in range(num_epochs):\n",
    "        print(f\"Starting epoch: {epoch}\")\n",
    "        start_time = time.time()\n",
    "        \n",
    "        cumulative_train_loss = 0.0\n",
    "        cumulative_val_loss = 0.0\n",
    "        \n",
    "    # Step 4: Perform training on each batch\n",
    "    # For each batch in the training dataset, call the `train_step` function and accumulate the loss\n",
    "        for batch, (inputs, labels) in enumerate(train_dataset):\n",
    "            loss = train_step(skipgram_model, optimizer, loss_fn, train_acc_metric, inputs, labels)\n",
    "            cumulative_train_loss += loss.numpy()\n",
    "        \n",
    "    # Step 5: Compute and display training accuracy\n",
    "    # Update and reset training accuracy metrics after each epoch and log the results\n",
    "        train_accuracy = train_acc_metric.result().numpy()\n",
    "        print(f\"Training acc over epoch: {train_accuracy:.4f}\")\n",
    "        print(f\"Cumulative loss: {cumulative_train_loss:.4f}\")\n",
    "        \n",
    "        # Reset training accuracy metric at the end of the epoch\n",
    "        train_acc_metric.reset_state()\n",
    "        \n",
    "    # Step 6: Perform validation on the test dataset\n",
    "    # For each batch in the test dataset, call the `test_step` function to calculate validation loss and accuracy\n",
    "        for batch, (inputs, labels) in enumerate(test_dataset):\n",
    "            val_loss = test_step(skipgram_model, loss_fn, val_acc_metric, inputs, labels)\n",
    "            cumulative_val_loss += val_loss.numpy()\n",
    "        \n",
    "    # Step 7: Log validation metrics\n",
    "    # Compute and log validation accuracy and cumulative test loss for each epoch\n",
    "        val_accuracy = val_acc_metric.result().numpy()\n",
    "        print(f\"Validation acc over epoch: {val_accuracy:.4f}\")\n",
    "        print(f\"Cumulative test loss: {cumulative_val_loss:.4f}\")\n",
    "        \n",
    "        val_acc_metric.reset_state()\n",
    "        \n",
    "    # Step 8: Track time per epoch\n",
    "    # Record and display the time taken to complete each epoch for performance monitoring\n",
    "        end_time = time.time()\n",
    "        time_taken = end_time - start_time\n",
    "        print(f\"Time taken: {time_taken:.2f}s\\n\")"
   ]
  },
  {
   "cell_type": "code",
   "execution_count": 12,
   "metadata": {
    "execution": {
     "iopub.execute_input": "2025-01-06T00:33:12.801237Z",
     "iopub.status.busy": "2025-01-06T00:33:12.800899Z",
     "iopub.status.idle": "2025-01-06T00:33:12.807126Z",
     "shell.execute_reply": "2025-01-06T00:33:12.806114Z",
     "shell.execute_reply.started": "2025-01-06T00:33:12.801204Z"
    },
    "trusted": true
   },
   "outputs": [
    {
     "name": "stdout",
     "output_type": "stream",
     "text": [
      "Num GPUs Available:  1\n"
     ]
    }
   ],
   "source": [
    "print(\"Num GPUs Available: \", len(tf.config.list_physical_devices('GPU')))\n"
   ]
  },
  {
   "cell_type": "code",
   "execution_count": 13,
   "metadata": {
    "execution": {
     "iopub.execute_input": "2025-01-06T00:33:12.808482Z",
     "iopub.status.busy": "2025-01-06T00:33:12.808127Z",
     "iopub.status.idle": "2025-01-06T00:33:12.821019Z",
     "shell.execute_reply": "2025-01-06T00:33:12.820148Z",
     "shell.execute_reply.started": "2025-01-06T00:33:12.808450Z"
    },
    "trusted": true
   },
   "outputs": [],
   "source": [
    "import os\n",
    "\n",
    "os.makedirs(\"checkpoints\", exist_ok=True)"
   ]
  },
  {
   "cell_type": "code",
   "execution_count": 14,
   "metadata": {
    "execution": {
     "iopub.execute_input": "2025-01-06T00:33:12.822145Z",
     "iopub.status.busy": "2025-01-06T00:33:12.821876Z",
     "iopub.status.idle": "2025-01-06T00:33:12.927003Z",
     "shell.execute_reply": "2025-01-06T00:33:12.925813Z",
     "shell.execute_reply.started": "2025-01-06T00:33:12.822115Z"
    },
    "id": "V2iWMNGQahsc",
    "papermill": {
     "duration": 1.409531,
     "end_time": "2020-10-10T13:36:48.973383",
     "exception": false,
     "start_time": "2020-10-10T13:36:47.563852",
     "status": "completed"
    },
    "tags": [],
    "trusted": true
   },
   "outputs": [
    {
     "name": "stdout",
     "output_type": "stream",
     "text": [
      "Weights saved to: checkpoints/skipgram_model_weights.weights.h5\n"
     ]
    }
   ],
   "source": [
    "# Save weights to a Tensorflow Checkpoint file\n",
    "checkpoint_path = \"checkpoints/skipgram_model_weights.weights.h5\"\n",
    "\n",
    "skipgram_model.save_weights(checkpoint_path)\n",
    "\n",
    "print(f\"Weights saved to: {checkpoint_path}\")"
   ]
  },
  {
   "cell_type": "markdown",
   "metadata": {
    "id": "bb7Wx_rzZOOm",
    "papermill": {
     "duration": 1.591393,
     "end_time": "2020-10-10T13:36:51.938622",
     "exception": false,
     "start_time": "2020-10-10T13:36:50.347229",
     "status": "completed"
    },
    "tags": []
   },
   "source": [
    "### Word Embeddings Projector\n",
    "\n",
    "Follow these steps to visualize the learned word embeddings using TensorFlow's Embedding Projector:\n",
    "\n",
    "1. Extract the weights of the embedding layer from your trained model.\n",
    "2. Save the weights into two files:\n",
    "   - `vecs.tsv`: This file will store the actual vector representations of words.\n",
    "   - `meta.tsv`: This file will store the associated metadata (e.g., word labels) for visualization.\n",
    "3. Go to [TensorFlow Embedding Projector](http://projector.tensorflow.org/).\n",
    "4. Upload the `vecs.tsv` and `meta.tsv` files created in the previous step.\n",
    "5. Explore the visualizations provided by TensorFlow's Embedding Projector.\n",
    "<font color=#ffb578>\n",
    "6.Save the visualization of a word that best demonstrate the quality of your embeddings as an image and store it near the notebook.\n",
    "7. Compress the folder into a `.zip` file and submit it as part of your work.\n",
    "\n",
    "</font>\n"
   ]
  },
  {
   "cell_type": "code",
   "execution_count": 15,
   "metadata": {
    "execution": {
     "iopub.execute_input": "2025-01-06T00:33:12.928397Z",
     "iopub.status.busy": "2025-01-06T00:33:12.928050Z",
     "iopub.status.idle": "2025-01-06T00:33:18.240012Z",
     "shell.execute_reply": "2025-01-06T00:33:18.239102Z",
     "shell.execute_reply.started": "2025-01-06T00:33:12.928347Z"
    },
    "trusted": true
   },
   "outputs": [
    {
     "name": "stdout",
     "output_type": "stream",
     "text": [
      "(71140, 128)\n"
     ]
    }
   ],
   "source": [
    "# Step 1: Access the embedding layer from the trained model\n",
    "# Retrieve the first layer (embedding layer) from the model\n",
    "embedding_layer = skipgram_model.get_layer(\"embedding_layer\")\n",
    "\n",
    "# Step 2: Extract the weights from the embedding layer\n",
    "# Get the weights (word embeddings) as a NumPy array\n",
    "weights = embedding_layer.get_weights()[0]\n",
    "\n",
    "# Step 3: Open files to store embeddings and metadata\n",
    "# Create two files - 'vecs.tsv' for embeddings and 'meta.tsv' for word metadata\n",
    "vecs_file = io.open('vecs.tsv', 'w', encoding='utf-8')\n",
    "meta_file = io.open('meta.tsv', 'w', encoding='utf-8')\n",
    "\n",
    "# Step 4: Iterate through the tokenizer's vocabulary\n",
    "# For each word in the vocabulary, write its metadata and embeddings to the files\n",
    "for word, index in tokenizer.word_index.items():\n",
    "    embedding = weights[index]\n",
    "    meta_file.write(word + \"\\n\")\n",
    "    vecs_file.write('\\t'.join([str(x) for x in embedding]) + \"\\n\")\n",
    "\n",
    "# Step 5: Close the files after writing\n",
    "# Ensure that the files are properly saved and closed\n",
    "vecs_file.close()\n",
    "meta_file.close()\n",
    "\n",
    "loaded_embeddings = np.loadtxt('vecs.tsv', delimiter='\\t')\n",
    "print(loaded_embeddings.shape)"
   ]
  }
 ],
 "metadata": {
  "colab": {
   "provenance": []
  },
  "kaggle": {
   "accelerator": "gpu",
   "dataSources": [],
   "isGpuEnabled": true,
   "isInternetEnabled": true,
   "language": "python",
   "sourceType": "notebook"
  },
  "kernelspec": {
   "display_name": "Python 3",
   "language": "python",
   "name": "python3"
  },
  "language_info": {
   "codemirror_mode": {
    "name": "ipython",
    "version": 3
   },
   "file_extension": ".py",
   "mimetype": "text/x-python",
   "name": "python",
   "nbconvert_exporter": "python",
   "pygments_lexer": "ipython3",
   "version": "3.11.9"
  },
  "papermill": {
   "duration": 1467.163823,
   "end_time": "2020-10-10T13:37:04.319726",
   "environment_variables": {},
   "exception": null,
   "input_path": "__notebook__.ipynb",
   "output_path": "__notebook__.ipynb",
   "parameters": {},
   "start_time": "2020-10-10T13:12:37.155903",
   "version": "2.1.0"
  }
 },
 "nbformat": 4,
 "nbformat_minor": 4
}
