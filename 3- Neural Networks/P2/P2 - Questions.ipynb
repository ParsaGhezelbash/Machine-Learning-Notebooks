{
 "cells": [
  {
   "cell_type": "markdown",
   "metadata": {
    "id": "havFsrqzlXPy"
   },
   "source": [
    "# Optimization Techniques on MNIST Dataset\n",
    "This notebook explores various optimization techniques for training neural networks on the MNIST dataset. The focus will be on different optimization strategies including Adaptive Learning Rates, SGD, Mini-Batch Gradient Descent, and Learning Rate Adjustments. Each section will provide a practical task related to these techniques."
   ]
  },
  {
   "cell_type": "markdown",
   "metadata": {},
   "source": [
    "#### Student Information  \n",
    "- **First Name**: Parsa\n",
    "- **Last Name**: Ghezelbash\n",
    "- **Student ID**: 401110437"
   ]
  },
  {
   "cell_type": "code",
   "execution_count": 1,
   "metadata": {
    "id": "ywjE9LpmlXP1"
   },
   "outputs": [],
   "source": [
    "import tensorflow as tf\n",
    "import numpy as np\n",
    "import matplotlib.pyplot as plt\n",
    "\n",
    "# Load Fashion MNIST dataset\n",
    "(x_train, y_train), (x_test, y_test) = tf.keras.datasets.fashion_mnist.load_data()\n",
    "\n",
    "# Normalize data\n",
    "x_train, x_test = x_train / 255.0, x_test / 255.0\n",
    "\n",
    "# One-hot encode labels\n",
    "y_train = tf.keras.utils.to_categorical(y_train, 10)\n",
    "y_test = tf.keras.utils.to_categorical(y_test, 10)"
   ]
  },
  {
   "cell_type": "code",
   "execution_count": 2,
   "metadata": {
    "id": "A709gAImhs3o"
   },
   "outputs": [],
   "source": [
    "x_train = x_train.reshape(x_train.shape[0], -1)\n",
    "x_test = x_test.reshape(x_test.shape[0], -1)\n",
    "\n",
    "np.random.seed(13)"
   ]
  },
  {
   "cell_type": "markdown",
   "metadata": {
    "id": "QQRO5OXOhs3o"
   },
   "source": [
    "## Adaptive Learning Rates"
   ]
  },
  {
   "cell_type": "markdown",
   "metadata": {
    "id": "4rNvoHEDlXP2"
   },
   "source": [
    "## Implementing a Simple Neural Network from Scratch"
   ]
  },
  {
   "cell_type": "markdown",
   "metadata": {
    "id": "8IMMs-s6lXP2"
   },
   "source": [
    "### Building the Network\n",
    "Define the architecture of a simple feedforward neural network with one hidden layer. You will need to manually initialize the weights and biases.\n",
    "\n",
    "**TODO:** Initialize Parameters\n",
    "Objective: Create a function to initialize weights and biases for all layers of the network.\n",
    "Instructions:\n",
    "- Initialize weights with small random values and biases with zeros.\n",
    "- Use numpy for creating arrays and operations.\n",
    "\n",
    "Hint: Use np.random.randn for weights and np.zeros for biases. Scale weights by 0.1."
   ]
  },
  {
   "cell_type": "code",
   "execution_count": 3,
   "metadata": {
    "id": "HEUr0figlXP3"
   },
   "outputs": [],
   "source": [
    "def initialize_parameters(input_size, hidden_size, output_size):\n",
    "    \"\"\"\n",
    "    Initialize weights and biases for a simple feedforward neural network.\n",
    "\n",
    "    Parameters:\n",
    "    - input_size: Number of input features.\n",
    "    - hidden_size: Number of neurons in the hidden layer.\n",
    "    - output_size: Number of output classes.\n",
    "\n",
    "    Returns:\n",
    "    - parameters: A dictionary containing weights and biases.\n",
    "    \"\"\"\n",
    "    params = {}\n",
    "\n",
    "    params['W1'] = np.random.randn(input_size, hidden_size) * 0.1\n",
    "    params['W2'] = np.random.randn(hidden_size, output_size) * 0.1\n",
    "\n",
    "    params['b1'] = np.zeros(hidden_size)\n",
    "    params['b2'] = np.zeros(output_size)\n",
    "\n",
    "    return params\n"
   ]
  },
  {
   "cell_type": "markdown",
   "metadata": {
    "id": "bDvfRCVq-74-"
   },
   "source": [
    "\n",
    "TODO: Define Activation Functions\n",
    "Objective: Implement commonly used activation functions.\n",
    "Instructions:\n",
    " - Define the ReLU and Sigmoid activation functions.\n",
    " - Ensure each function works with numpy arrays and supports both forward and derivative (gradient) computations.\n"
   ]
  },
  {
   "cell_type": "code",
   "execution_count": 4,
   "metadata": {
    "id": "qIBwOlH6_Jg4"
   },
   "outputs": [],
   "source": [
    "def relu(x):\n",
    "    \"\"\"\n",
    "    ReLU activation function.\n",
    "\n",
    "    Parameters:\n",
    "    - x: Input numpy array.\n",
    "\n",
    "    Returns:\n",
    "    - Output after applying ReLU.\n",
    "    \"\"\"\n",
    "    return np.maximum(x, 0)\n",
    "\n",
    "def relu_derivative(x):\n",
    "    \"\"\"\n",
    "    Derivative of ReLU activation function.\n",
    "\n",
    "    Parameters:\n",
    "    - x: Input numpy array.\n",
    "\n",
    "    Returns:\n",
    "    - Derivative of ReLU.\n",
    "    \"\"\"\n",
    "    return (x > 0).astype(float)\n",
    "\n",
    "def sigmoid(x):\n",
    "    \"\"\"\n",
    "    Sigmoid activation function.\n",
    "\n",
    "    Parameters:\n",
    "    - x: Input numpy array.\n",
    "\n",
    "    Returns:\n",
    "    - Output after applying sigmoid.\n",
    "    \"\"\"\n",
    "    return 1 / (1 + np.exp(-x))\n",
    "\n",
    "def sigmoid_derivative(x):\n",
    "    \"\"\"\n",
    "    Derivative of sigmoid activation function.\n",
    "\n",
    "    Parameters:\n",
    "    - x: Input numpy array.\n",
    "\n",
    "    Returns:\n",
    "    - Derivative of sigmoid.\n",
    "    \"\"\"\n",
    "    sig = sigmoid(x)\n",
    "    return sig * (1 - sig)\n",
    "\n",
    "def softmax(x):\n",
    "    e = np.exp(x - np.max(x, axis=1, keepdims=True))\n",
    "    return e / np.sum(e, axis=1, keepdims=True)\n"
   ]
  },
  {
   "cell_type": "markdown",
   "metadata": {
    "id": "h6HxkvToEDjr"
   },
   "source": [
    "TODO: Perform forward propagation through the network.\n",
    "\n",
    "    Parameters:\n",
    "    - X: Input data (shape: number of examples x input size).\n",
    "    - parameters: Dictionary containing weights and biases.\n",
    "\n",
    "    Returns:\n",
    "    - A2: Output of the network (after activation).\n",
    "    - cache: Dictionary containing intermediate values for backpropagation."
   ]
  },
  {
   "cell_type": "code",
   "execution_count": 5,
   "metadata": {
    "id": "4ylVbZoXECpn"
   },
   "outputs": [],
   "source": [
    "def forward_propagation(X, parameters):\n",
    "    \"\"\"\n",
    "    Perform forward propagation through the network.\n",
    "\n",
    "    Parameters:\n",
    "    - X: Input data (shape: number of examples x input size).\n",
    "    - parameters: Dictionary containing weights and biases.\n",
    "\n",
    "    Returns:\n",
    "    - A2: Output of the network (after activation).\n",
    "    - cache: Dictionary containing intermediate values for backpropagation.\n",
    "    \"\"\"\n",
    "    W1 = parameters['W1']\n",
    "    W2 = parameters['W2']\n",
    "    b1 = parameters['b1']\n",
    "    b2 = parameters['b2']\n",
    "\n",
    "    Z1 = X @ W1 + b1\n",
    "    A1 = relu(Z1)\n",
    "    Z2 = A1 @ W2 + b2\n",
    "    A2 = softmax(Z2)\n",
    "\n",
    "    return A2, {'Z1': Z1, 'A1': A1, 'Z2': Z2, 'A2': A2}"
   ]
  },
  {
   "cell_type": "markdown",
   "metadata": {
    "id": "-KtURRNUC_NP"
   },
   "source": [
    "TODO: Implement the loss function. Compute the categorical cross-entropy loss.\n",
    "\n",
    "    Parameters:\n",
    "    - y_true: True labels (one-hot encoded).\n",
    "    - y_pred: Predicted probabilities (output of the network).\n",
    "\n",
    "    Returns:\n",
    "    - loss: Computed loss."
   ]
  },
  {
   "cell_type": "code",
   "execution_count": 6,
   "metadata": {
    "id": "advoE8kEC-vk"
   },
   "outputs": [],
   "source": [
    "def compute_loss(y_true, y_pred):\n",
    "    \"\"\"\n",
    "    Compute the categorical cross-entropy loss.\n",
    "\n",
    "    Parameters:\n",
    "    - y_true: True labels (one-hot encoded).\n",
    "    - y_pred: Predicted probabilities (output of the network).\n",
    "\n",
    "    Returns:\n",
    "    - loss: Computed loss.\n",
    "    \"\"\"\n",
    "    return  - np.mean(np.sum(y_true * np.log(y_pred + 1e-15), axis=1), axis=0)"
   ]
  },
  {
   "cell_type": "markdown",
   "metadata": {
    "id": "s5V1D0jUDK3B"
   },
   "source": [
    "TODO: Implement backpropagation for the network and Perform backward propagation through the network.\n",
    "\n",
    "    Parameters:\n",
    "    - X: Input data.\n",
    "    - y_true: True labels.\n",
    "    - parameters: Dictionary containing weights and biases.\n",
    "    - cache: Intermediate values from forward propagation.\n",
    "\n",
    "    Returns:\n",
    "    - gradients: Dictionary containing gradients for weights and biases."
   ]
  },
  {
   "cell_type": "code",
   "execution_count": 7,
   "metadata": {
    "id": "Wxe-CxJJhs3p"
   },
   "outputs": [],
   "source": [
    "def clip_gradients(gradients, clip_value=1.0):\n",
    "    for key in gradients.keys():\n",
    "        np.clip(gradients[key], -clip_value, clip_value, out=gradients[key])\n",
    "    return gradients"
   ]
  },
  {
   "cell_type": "code",
   "execution_count": 8,
   "metadata": {
    "id": "4CxAo9FlBG18"
   },
   "outputs": [],
   "source": [
    "def backward_propagation(X, y_true, parameters, cache):\n",
    "    \"\"\"\n",
    "    Perform backward propagation through the network.\n",
    "\n",
    "    Parameters:\n",
    "    - X: Input data.\n",
    "    - y_true: True labels.\n",
    "    - parameters: Dictionary containing weights and biases.\n",
    "    - cache: Intermediate values from forward propagation.\n",
    "\n",
    "    Returns:\n",
    "    - gradients: Dictionary containing gradients for weights and biases.\n",
    "    \"\"\"\n",
    "    W1, W2, b1, b2 = parameters['W1'], parameters['W2'], parameters['b1'], parameters['b2']\n",
    "\n",
    "    Z1, A1, Z2, A2 = cache['Z1'], cache['A1'], cache['Z2'], cache['A2']\n",
    "\n",
    "    n = X.shape[0]\n",
    "    dZ2 = (A2 - y_true) / n\n",
    "\n",
    "    db2 = np.sum(dZ2, axis=0)\n",
    "    dW2 = A1.T @ dZ2\n",
    "\n",
    "    dA1 = dZ2 @ W2.T\n",
    "\n",
    "    dZ1 = dA1 * relu_derivative(Z1)\n",
    "    db1 = np.sum(dZ1, axis=0)\n",
    "    dW1 = X.T @ dZ1\n",
    "\n",
    "\n",
    "    return {'W1': dW1, 'b1': db1, 'W2': dW2, 'b2': db2}"
   ]
  },
  {
   "cell_type": "markdown",
   "metadata": {
    "id": "LG2cvi3DDe4Q"
   },
   "source": [
    "TODO: Update the parameters using gradient descent.\n",
    "\n",
    "    Parameters:\n",
    "    - parameters: Current weights and biases.\n",
    "    - gradients: Calculated gradients.\n",
    "    - learning_rate: Learning rate for updates.\n",
    "\n",
    "    Returns:\n",
    "    - parameters: Updated weights and biases."
   ]
  },
  {
   "cell_type": "code",
   "execution_count": 9,
   "metadata": {
    "id": "9uMGXPGqDdk4"
   },
   "outputs": [],
   "source": [
    "def update_parameters(parameters, gradients, learning_rate=0.01):\n",
    "    \"\"\"\n",
    "    Update parameters using gradient descent.\n",
    "\n",
    "    Parameters:\n",
    "    - parameters: Current weights and biases.\n",
    "    - gradients: Calculated gradients.\n",
    "    - learning_rate: Learning rate for updates.\n",
    "\n",
    "    Returns:\n",
    "    - parameters: Updated weights and biases.\n",
    "    \"\"\"\n",
    "    for param in parameters:\n",
    "        parameters[param] -= learning_rate * gradients[param]\n",
    "\n",
    "    return parameters"
   ]
  },
  {
   "cell_type": "markdown",
   "metadata": {
    "id": "5E4UZg1SD2bM"
   },
   "source": [
    "TODO: Train the model by changing the hidden layer size (such as [32, 64, 128]) and observe the impact on network performance during training.\n",
    "\n",
    "    Train the neural network model.\n",
    "\n",
    "    Parameters:\n",
    "    - X_train: Training data.\n",
    "    - y_train: One-hot encoded labels.\n",
    "    - hidden_size: Number of neurons in the hidden layer.\n",
    "    - epochs: Number of training epochs.\n",
    "    - learning_rate: Learning rate for optimization."
   ]
  },
  {
   "cell_type": "code",
   "execution_count": 10,
   "metadata": {
    "colab": {
     "base_uri": "https://localhost:8080/"
    },
    "id": "GlsAvdUCDzSb",
    "outputId": "0722de43-c59e-4cfa-ca01-95f624f6f1f5"
   },
   "outputs": [
    {
     "name": "stdout",
     "output_type": "stream",
     "text": [
      "Training with hidden layer size: 32\n",
      "Epoch 10, Loss: 2.36\n",
      "Epoch 20, Loss: 2.253\n",
      "Epoch 30, Loss: 2.176\n",
      "Epoch 40, Loss: 2.11\n",
      "Epoch 50, Loss: 2.048\n",
      "\n",
      "Training with hidden layer size: 64\n",
      "Epoch 10, Loss: 2.177\n",
      "Epoch 20, Loss: 2.045\n",
      "Epoch 30, Loss: 1.946\n",
      "Epoch 40, Loss: 1.863\n",
      "Epoch 50, Loss: 1.789\n",
      "\n",
      "Training with hidden layer size: 128\n",
      "Epoch 10, Loss: 2.262\n",
      "Epoch 20, Loss: 2.038\n",
      "Epoch 30, Loss: 1.883\n",
      "Epoch 40, Loss: 1.753\n",
      "Epoch 50, Loss: 1.642\n",
      "\n"
     ]
    }
   ],
   "source": [
    "# Training Loop\n",
    "def train_model(X_train, y_train, hidden_size, epochs=50, learning_rate=0.01):\n",
    "    \"\"\"\n",
    "    Train the neural network model.\n",
    "\n",
    "    Parameters:\n",
    "    - X_train: Training data.\n",
    "    - y_train: One-hot encoded labels.\n",
    "    - hidden_size: Number of neurons in the hidden layer.\n",
    "    - epochs: Number of training epochs.\n",
    "    - learning_rate: Learning rate for optimization.\n",
    "    \"\"\"\n",
    "    parameters = initialize_parameters(X_train.shape[1], hidden_size, y_train.shape[1])\n",
    "\n",
    "    cache = None\n",
    "    gradients = None\n",
    "    losses = []\n",
    "\n",
    "    print(f\"Training with hidden layer size: {hidden_size}\")\n",
    "\n",
    "    for i in range(epochs):\n",
    "        y_pred, cache = forward_propagation(X_train, parameters)\n",
    "\n",
    "        gradients = backward_propagation(X_train, y_train, parameters, cache)\n",
    "\n",
    "        parameters = update_parameters(parameters, gradients, learning_rate)\n",
    "\n",
    "        losses.append(compute_loss(y_pred=y_pred, y_true=y_train))\n",
    "\n",
    "        if ((i+1) % 10) == 0:\n",
    "            print(f\"Epoch {i+1}, Loss: {np.round(losses[i], 3)}\")\n",
    "\n",
    "    return losses\n",
    "\n",
    "hidden_sizes = [32, 64, 128]\n",
    "for hidden_size in hidden_sizes:\n",
    "    train_model(x_train, y_train, hidden_size, epochs=50)\n",
    "    print(\"\")"
   ]
  },
  {
   "cell_type": "markdown",
   "metadata": {
    "id": "YuCNlJCHKf1S"
   },
   "source": [
    "TODO: Implement Adam Optimizer\n",
    "\n",
    "1. Initialize Parameters: Create variables to store the moment estimates (first and second) for each parameter.\n",
    "\n",
    "    Parameters:\n",
    "    - parameters: Dictionary containing weights and biases.\n",
    "\n",
    "    Returns:\n",
    "    - v: First moment vector (initialized to zeros).\n",
    "    - s: Second moment vector (initialized to zeros).\n",
    "    - t: Time step (initialized to 0).\n",
    "\n",
    "2. Update Rules: Implement the update rules based on the gradients, learning rate, and moment estimates.\n"
   ]
  },
  {
   "cell_type": "code",
   "execution_count": 11,
   "metadata": {
    "id": "Iqy1_rfsKP8b"
   },
   "outputs": [],
   "source": [
    "def initialize_adam(parameters):\n",
    "    \"\"\"\n",
    "    Initialize the Adam optimizer variables.\n",
    "\n",
    "    Parameters:\n",
    "    - parameters: Dictionary containing weights and biases.\n",
    "\n",
    "    Returns:\n",
    "    - v: First moment vector (initialized to zeros).\n",
    "    - s: Second moment vector (initialized to zeros).\n",
    "    - t: Time step (initialized to 0).\n",
    "    \"\"\"\n",
    "    v = {}\n",
    "    s = {}\n",
    "    t = 0\n",
    "\n",
    "    for param in parameters:\n",
    "        v[param] = np.zeros_like(parameters[param])\n",
    "        s[param] = np.zeros_like(parameters[param])\n",
    "\n",
    "    return v, s, t\n",
    "\n",
    "def update_parameters_with_adam(parameters, gradients, v, s, t, learning_rate=0.001, beta1=0.9, beta2=0.999, epsilon=1e-8):\n",
    "    \"\"\"\n",
    "    Update parameters using the Adam optimizer.\n",
    "\n",
    "    Parameters:\n",
    "    - parameters: Current weights and biases.\n",
    "    - gradients: Calculated gradients.\n",
    "    - v: First moment vector.\n",
    "    - s: Second moment vector.\n",
    "    - t: Time step.\n",
    "    - learning_rate: Learning rate for updates.\n",
    "    - beta1: Exponential decay rate for the first moment estimates.\n",
    "    - beta2: Exponential decay rate for the second moment estimates.\n",
    "    - epsilon: Small constant for numerical stability.\n",
    "\n",
    "    Returns:\n",
    "    - parameters: Updated weights and biases.\n",
    "    - v: Updated first moment vector.\n",
    "    - s: Updated second moment vector.\n",
    "    - t: Updated time step.\n",
    "    \"\"\"\n",
    "    t += 1\n",
    "\n",
    "    for param in parameters:\n",
    "        v[param] = v[param] * beta1 + gradients[param] * (1 - beta1)\n",
    "        s[param] = s[param] * beta2 + gradients[param]**2 * (1 - beta2)\n",
    "\n",
    "        s_hat = s[param] / (1 - beta2**t)\n",
    "        v_hat = v[param] / (1 - beta1**t)\n",
    "\n",
    "        parameters[param] -= learning_rate / np.sqrt(s_hat + epsilon) * v_hat\n",
    "\n",
    "    return parameters, v, s, t"
   ]
  },
  {
   "cell_type": "markdown",
   "metadata": {
    "id": "-mU6NQXdLQd_"
   },
   "source": [
    "TODO: Implement Adam optimizer into the training loop."
   ]
  },
  {
   "cell_type": "code",
   "execution_count": 12,
   "metadata": {
    "id": "NMPqxphzKSv8"
   },
   "outputs": [],
   "source": [
    "def train_model_with_adam(X_train, y_train, hidden_size, epochs=50, learning_rate=0.001):\n",
    "    \"\"\"\n",
    "    Train the neural network model using Adam optimizer.\n",
    "\n",
    "    Parameters:\n",
    "    - X_train: Training data.\n",
    "    - y_train: One-hot encoded labels.\n",
    "    - hidden_size: Number of neurons in the hidden layer.\n",
    "    - epochs: Number of training epochs.\n",
    "    - learning_rate: Learning rate for optimization.\n",
    "    \"\"\"\n",
    "    parameters = initialize_parameters(X_train.shape[1], hidden_size, y_train.shape[1])\n",
    "    v, s, t = initialize_adam(parameters)\n",
    "    cache = None\n",
    "    gradients = None\n",
    "    losses = []\n",
    "\n",
    "    print(f\"Training with hidden layer size: {hidden_size}\")\n",
    "\n",
    "    for i in range(epochs):\n",
    "        y_pred, cache = forward_propagation(X_train, parameters)\n",
    "\n",
    "        gradients = backward_propagation(X_train, y_train, parameters, cache)\n",
    "\n",
    "        parameters = update_parameters_with_adam(parameters, gradients, v, s, t, learning_rate=learning_rate)\n",
    "\n",
    "        losses.append(compute_loss(y_pred=y_pred, y_true=y_train))\n",
    "\n",
    "        if ((i+1) % 10) == 0:\n",
    "            print(f\"Epoch {i+1}, Loss: {np.round(losses[i], 3)}\")\n",
    "\n",
    "    return losses"
   ]
  },
  {
   "cell_type": "markdown",
   "metadata": {
    "id": "fEZVkGGplXP4"
   },
   "source": [
    "### Compare Adam and RMSprop\n"
   ]
  },
  {
   "cell_type": "markdown",
   "metadata": {
    "id": "7BxQoqf8ak2k"
   },
   "source": [
    "TODO: First, implement the RMSprop optimizer. The RMSprop optimizer uses a moving average of squared gradients to normalize the gradient, which helps to stabilize the updates."
   ]
  },
  {
   "cell_type": "code",
   "execution_count": 13,
   "metadata": {
    "id": "117xMpE6avQ2"
   },
   "outputs": [],
   "source": [
    "def initialize_rmsprop(parameters):\n",
    "    \"\"\"\n",
    "    Initialize the RMSprop variables.\n",
    "\n",
    "    Parameters:\n",
    "    - parameters: Dictionary containing weights and biases.\n",
    "\n",
    "    Returns:\n",
    "    - s: Second moment vector (initialized to zeros).\n",
    "    \"\"\"\n",
    "    s = {}\n",
    "\n",
    "    for param in parameters:\n",
    "        s[param] = np.zeros_like(parameters[param])\n",
    "\n",
    "    return s\n",
    "\n",
    "def update_parameters_with_rmsprop(parameters, gradients, s, learning_rate=0.001, beta=0.9, epsilon=1e-8):\n",
    "    \"\"\"\n",
    "    Update parameters using the RMSprop optimizer.\n",
    "\n",
    "    Parameters:\n",
    "    - parameters: Current weights and biases.\n",
    "    - gradients: Calculated gradients.\n",
    "    - s: Second moment vector.\n",
    "    - learning_rate: Learning rate for updates.\n",
    "    - beta: Exponential decay rate for the second moment estimates.\n",
    "    - epsilon: Small constant for numerical stability.\n",
    "\n",
    "    Returns:\n",
    "    - parameters: Updated weights and biases.\n",
    "    - s: Updated second moment vector.\n",
    "    \"\"\"\n",
    "    for param in parameters:\n",
    "        s[param] = s[param] * beta + gradients[param]**2 * (1 - beta)\n",
    "        parameters[param] -= learning_rate / np.sqrt(s[param] + epsilon) * gradients[param]\n",
    "\n",
    "    return parameters, s"
   ]
  },
  {
   "cell_type": "markdown",
   "metadata": {
    "id": "GWJg1GjFayY2"
   },
   "source": [
    "TODO: Modify the training loop to allow for both optimizers and store the loss history for comparison."
   ]
  },
  {
   "cell_type": "code",
   "execution_count": 14,
   "metadata": {
    "id": "iwcuRTkja5pT"
   },
   "outputs": [],
   "source": [
    "def train_model(X_train, y_train, hidden_size, epochs=50, learning_rate=0.001, optimizer='adam'):\n",
    "    \"\"\"\n",
    "    Train the neural network model using specified optimizer.\n",
    "\n",
    "    Parameters:\n",
    "    - X_train: Training data.\n",
    "    - y_train: One-hot encoded labels.\n",
    "    - hidden_size: Number of neurons in the hidden layer.\n",
    "    - epochs: Number of training epochs.\n",
    "    - learning_rate: Learning rate for optimization.\n",
    "    - optimizer: The optimizer to use ('adam' or 'rmsprop').\n",
    "\n",
    "    Returns:\n",
    "    - loss_history: List of loss values over epochs.\n",
    "    \"\"\"\n",
    "    parameters = initialize_parameters(X_train.shape[1], hidden_size, y_train.shape[1])\n",
    "\n",
    "    if optimizer == 'adam':\n",
    "        v, s, t = initialize_adam(parameters)\n",
    "    else:\n",
    "        s = initialize_rmsprop(parameters)\n",
    "\n",
    "    cache = None\n",
    "    gradients = None\n",
    "    losses = []\n",
    "\n",
    "    print(f\"Training with hidden layer size: {hidden_size}\")\n",
    "\n",
    "    for i in range(epochs):\n",
    "        y_pred, cache = forward_propagation(X_train, parameters)\n",
    "\n",
    "        gradients = backward_propagation(X_train, y_train, parameters, cache)\n",
    "\n",
    "        if optimizer == 'adam':\n",
    "            parameters, v, s, t = update_parameters_with_adam(parameters, gradients, v, s, t, learning_rate=learning_rate)\n",
    "        else:\n",
    "            parameters, s = update_parameters_with_rmsprop(parameters, gradients, s, learning_rate=learning_rate)\n",
    "\n",
    "        losses.append(compute_loss(y_pred=y_pred, y_true=y_train))\n",
    "\n",
    "        if ((i+1) % 10) == 0:\n",
    "            print(f\"Epoch {i+1}, Loss: {np.round(losses[i], 3)}\")\n",
    "\n",
    "    return losses"
   ]
  },
  {
   "cell_type": "markdown",
   "metadata": {
    "id": "g5cPzN1ma9Xi"
   },
   "source": [
    "TODO:  Compare Both Optimizers. Create a function to train the model using both optimizers and plot the loss histories for comparison."
   ]
  },
  {
   "cell_type": "code",
   "execution_count": 15,
   "metadata": {
    "colab": {
     "base_uri": "https://localhost:8080/",
     "height": 732
    },
    "id": "-z5eRURgbDIG",
    "outputId": "bd660f94-799c-4a45-8c88-a532f0f1ab46"
   },
   "outputs": [
    {
     "name": "stdout",
     "output_type": "stream",
     "text": [
      "RMSprop:\n",
      "Training with hidden layer size: 32\n",
      "Epoch 10, Loss: 1.611\n",
      "Epoch 20, Loss: 1.234\n",
      "Epoch 30, Loss: 1.009\n",
      "Epoch 40, Loss: 0.878\n",
      "Epoch 50, Loss: 0.799\n",
      "\n",
      "Adam:\n",
      "Training with hidden layer size: 32\n",
      "Epoch 10, Loss: 1.809\n",
      "Epoch 20, Loss: 1.463\n",
      "Epoch 30, Loss: 1.201\n",
      "Epoch 40, Loss: 1.012\n",
      "Epoch 50, Loss: 0.889\n"
     ]
    },
    {
     "data": {
      "image/png": "[encoded data removed]",
      "text/plain": [
       "<Figure size 640x480 with 1 Axes>"
      ]
     },
     "metadata": {},
     "output_type": "display_data"
    }
   ],
   "source": [
    "def compare_optimizers(X_train, y_train, hidden_size, epochs=50):\n",
    "    \"\"\"\n",
    "    Compare the Adam and RMSprop optimizers.\n",
    "\n",
    "    Parameters:\n",
    "    - X_train: Training data.\n",
    "    - y_train: One-hot encoded labels.\n",
    "    - hidden_size: Number of neurons in the hidden layer.\n",
    "    - epochs: Number of training epochs.\n",
    "    \"\"\"\n",
    "    print(\"RMSprop:\")\n",
    "    RMSprop_losses = train_model(X_train, y_train, hidden_size, epochs=epochs, optimizer='rmsprop')\n",
    "\n",
    "    print(\"\\nAdam:\")\n",
    "    Adam_losses = train_model(X_train, y_train, hidden_size, epochs=epochs, optimizer='adam')\n",
    "\n",
    "    plt.plot(range(1, epochs+1), RMSprop_losses, label='RMSprop Optimizer', marker='o', linestyle='--', c='red')\n",
    "    plt.plot(range(1, epochs+1), Adam_losses, label='Adam Optimizer', marker='o', linestyle='--', c='green')\n",
    "\n",
    "    plt.title('Adam vs RMSprop')\n",
    "\n",
    "    plt.xlabel('epoch')\n",
    "    plt.ylabel('Loss')\n",
    "\n",
    "    plt.grid()\n",
    "    plt.legend()\n",
    "    plt.show()\n",
    "\n",
    "compare_optimizers(x_train, y_train, 32, epochs=50)"
   ]
  },
  {
   "cell_type": "markdown",
   "metadata": {
    "id": "pueHFmTUlXP5"
   },
   "source": [
    "## Stochastic Gradient Descent (SGD)"
   ]
  },
  {
   "cell_type": "markdown",
   "metadata": {
    "id": "3zrSW4LilXP5"
   },
   "source": [
    "### Impact of Different Learning Rates on SGD\n"
   ]
  },
  {
   "cell_type": "markdown",
   "metadata": {
    "id": "BU9BiBsKcWjb"
   },
   "source": [
    "Explore the impact of different learning rates on the training dynamics and performance of Stochastic Gradient Descent (SGD). This will allow us to observe how the learning rate affects convergence speed, stability, and final performance.\n",
    "\n",
    "Steps for Implementing the Experiment\n",
    "\n",
    "1. Define the SGD Optimizer: Implement a simple SGD optimizer.\n",
    "2. Modify the Training Loop: Allow for different learning rates.\n",
    "3. Train the Model: Run the training process with a set of predefined learning rates.\n",
    "4. Visualize the Results: Plot the loss curves for each learning rate to compare their effects"
   ]
  },
  {
   "cell_type": "markdown",
   "metadata": {
    "id": "vDRSuNVrcvVI"
   },
   "source": [
    "1. Implement SGD Optimizer\n"
   ]
  },
  {
   "cell_type": "code",
   "execution_count": 16,
   "metadata": {
    "id": "r9UE2OHfcwCe"
   },
   "outputs": [],
   "source": [
    "def update_parameters_with_sgd(parameters, gradients, learning_rate=0.01):\n",
    "    \"\"\"\n",
    "    Update parameters using Stochastic Gradient Descent (SGD).\n",
    "\n",
    "    Parameters:\n",
    "    - parameters: Current weights and biases.\n",
    "    - gradients: Calculated gradients.\n",
    "    - learning_rate: Learning rate for updates.\n",
    "\n",
    "    Returns:\n",
    "    - parameters: Updated weights and biases.\n",
    "    \"\"\"\n",
    "    for param in parameters:\n",
    "        parameters[param] -= learning_rate * gradients[param]\n",
    "\n",
    "    return parameters"
   ]
  },
  {
   "cell_type": "markdown",
   "metadata": {
    "id": "O4qIjyg9cyXB"
   },
   "source": [
    "2. Modify the Training Loop\n"
   ]
  },
  {
   "cell_type": "code",
   "execution_count": 17,
   "metadata": {
    "id": "U1gKM56IdBH-"
   },
   "outputs": [],
   "source": [
    "def train_model_with_sgd(X_train, y_train, hidden_size, epochs=50, learning_rate=0.01):\n",
    "    \"\"\"\n",
    "    Train the neural network model using SGD optimizer.\n",
    "\n",
    "    Parameters:\n",
    "    - X_train: Training data.\n",
    "    - y_train: One-hot encoded labels.\n",
    "    - hidden_size: Number of neurons in the hidden layer.\n",
    "    - epochs: Number of training epochs.\n",
    "    - learning_rate: Learning rate for optimization.\n",
    "\n",
    "    Returns:\n",
    "    - loss_history: List of loss values over epochs.\n",
    "    \"\"\"\n",
    "    parameters = initialize_parameters(X_train.shape[1], hidden_size, y_train.shape[1])\n",
    "\n",
    "    cache = None\n",
    "    gradients = None\n",
    "    losses = []\n",
    "\n",
    "    print(f\"Training with hidden layer size: {hidden_size}\")\n",
    "\n",
    "    for i in range(epochs):\n",
    "        epoch_losses = []\n",
    "        for X, y in zip(X_train, y_train):\n",
    "            X = X.reshape(1, -1)\n",
    "            y = y.reshape(1, -1)\n",
    "\n",
    "            y_pred, cache = forward_propagation(X, parameters)\n",
    "\n",
    "            gradients = backward_propagation(X, y, parameters, cache)\n",
    "\n",
    "            parameters = update_parameters_with_sgd(parameters, gradients, learning_rate)\n",
    "\n",
    "            epoch_losses.append(compute_loss(y_pred=y_pred, y_true=y))\n",
    "\n",
    "        losses.append(np.mean(epoch_losses))\n",
    "\n",
    "        if ((i+1) % 10) == 0:\n",
    "            print(f\"Epoch {i+1}, Loss: {np.round(losses[i], 3)}\")\n",
    "\n",
    "    return losses"
   ]
  },
  {
   "cell_type": "markdown",
   "metadata": {
    "id": "CeQpjFQHdD4v"
   },
   "source": [
    "3. Experiment with Different Learning Rates\n"
   ]
  },
  {
   "cell_type": "code",
   "execution_count": 18,
   "metadata": {
    "colab": {
     "base_uri": "https://localhost:8080/",
     "height": 889
    },
    "id": "FvFIXxFRdGDv",
    "outputId": "8e62025e-6298-4cf9-8dbc-1c4b05e5c6f5"
   },
   "outputs": [
    {
     "name": "stdout",
     "output_type": "stream",
     "text": [
      "learning rate: 0.001\n",
      "Training with hidden layer size: 32\n",
      "Epoch 10, Loss: 0.349\n",
      "Epoch 20, Loss: 0.304\n",
      "Epoch 30, Loss: 0.279\n",
      "Epoch 40, Loss: 0.262\n",
      "Epoch 50, Loss: 0.248\n",
      "\n",
      "learning rate: 0.01\n",
      "Training with hidden layer size: 32\n",
      "Epoch 10, Loss: 0.312\n",
      "Epoch 20, Loss: 0.269\n",
      "Epoch 30, Loss: 0.245\n",
      "Epoch 40, Loss: 0.233\n",
      "Epoch 50, Loss: 0.22\n",
      "\n",
      "learning rate: 0.1\n",
      "Training with hidden layer size: 32\n",
      "Epoch 10, Loss: 2.144\n",
      "Epoch 20, Loss: 2.034\n",
      "Epoch 30, Loss: 2.075\n",
      "Epoch 40, Loss: 2.06\n",
      "Epoch 50, Loss: 2.043\n",
      "\n"
     ]
    },
    {
     "data": {
      "image/png": "[encoded data removed]",
      "text/plain": [
       "<Figure size 640x480 with 1 Axes>"
      ]
     },
     "metadata": {},
     "output_type": "display_data"
    }
   ],
   "source": [
    "def compare_learning_rates(X_train, y_train, hidden_size, epochs=50, learning_rates=[0.001, 0.01, 0.1]):\n",
    "    \"\"\"\n",
    "    Compare the performance of SGD with different learning rates.\n",
    "\n",
    "    Parameters:\n",
    "    - X_train: Training data.\n",
    "    - y_train: One-hot encoded labels.\n",
    "    - hidden_size: Number of neurons in the hidden layer.\n",
    "    - epochs: Number of training epochs.\n",
    "    - learning_rates: List of learning rates to test.\n",
    "    \"\"\"\n",
    "    losses = {}\n",
    "\n",
    "    colors = plt.colormaps['tab10']\n",
    "\n",
    "    for i, learning_rate in enumerate(learning_rates):\n",
    "        print(f\"learning rate: {learning_rate}\")\n",
    "\n",
    "        losses[learning_rate] = train_model_with_sgd(X_train, y_train, hidden_size, epochs=epochs, learning_rate=learning_rate)\n",
    "        print(\"\")\n",
    "\n",
    "        plt.plot(range(1, epochs+1), losses[learning_rate], marker='o', linestyle='--', label=f'learning rate = {learning_rate}', color=colors(i / len(learning_rates)))\n",
    "\n",
    "    plt.title('loss function with different learning rates SGD')\n",
    "\n",
    "    plt.xlabel('epoch')\n",
    "    plt.ylabel('Loss')\n",
    "\n",
    "    plt.grid()\n",
    "    plt.legend()\n",
    "    plt.show()\n",
    "\n",
    "compare_learning_rates(x_train, y_train, 32, epochs=50)"
   ]
  },
  {
   "cell_type": "markdown",
   "metadata": {
    "id": "IXxuYU7llXP6"
   },
   "source": [
    "### SGD with Momentum vs. Classic SGD\n"
   ]
  },
  {
   "cell_type": "markdown",
   "metadata": {
    "id": "R8dcD51aepnC"
   },
   "source": [
    "TODO: Compare Stochastic Gradient Descent (SGD) with momentum and classic SGD, you can set up an experiment that trains the same model using both methods. This will help you observe differences in convergence speed and stability.\n",
    "\n",
    "Steps for Implementing the Comparison:\n",
    "\n",
    "1. Implement Classic SGD: Ensure you have a basic SGD implementation.(already implemented in the previous cells)\n",
    "\n",
    "2. Implement SGD with Momentum: Add a momentum version of the SGD optimizer.\n",
    "\n",
    "3. Modify the Training Loop: Allow for both optimizers in the training process.\n",
    "\n",
    "4. Train the Model: Run the training process using both optimizers.\n",
    "\n",
    "5. Visualize the Results: Plot the loss curves for each optimizer to compare their performance."
   ]
  },
  {
   "cell_type": "markdown",
   "metadata": {
    "id": "9-czqAXNe_nQ"
   },
   "source": [
    "2. Implement SGD with Momentum\n"
   ]
  },
  {
   "cell_type": "code",
   "execution_count": 19,
   "metadata": {
    "id": "8uzLkhWcfB6a"
   },
   "outputs": [],
   "source": [
    "def initialize_momentum(parameters):\n",
    "    \"\"\"\n",
    "    Initialize the momentum variables.\n",
    "\n",
    "    Parameters:\n",
    "    - parameters: Dictionary containing weights and biases.\n",
    "\n",
    "    Returns:\n",
    "    - v: Momentum variable (initialized to zeros).\n",
    "    \"\"\"\n",
    "    v = {}\n",
    "\n",
    "    for param in parameters:\n",
    "        v[param] = np.zeros_like(parameters[param])\n",
    "\n",
    "    return v\n",
    "\n",
    "\n",
    "def update_parameters_with_momentum(parameters, gradients, v, learning_rate=0.01, beta=0.9):\n",
    "    \"\"\"\n",
    "    Update parameters using SGD with momentum.\n",
    "\n",
    "    Parameters:\n",
    "    - parameters: Current weights and biases.\n",
    "    - gradients: Calculated gradients.\n",
    "    - v: Momentum variable.\n",
    "    - learning_rate: Learning rate for updates.\n",
    "    - beta: Exponential decay rate for momentum.\n",
    "\n",
    "    Returns:\n",
    "    - parameters: Updated weights and biases.\n",
    "    - v: Updated momentum variable.\n",
    "    \"\"\"\n",
    "    for param in parameters:\n",
    "        v[param] = v[param] * beta + learning_rate * gradients[param]\n",
    "\n",
    "        parameters[param] -= v[param]\n",
    "\n",
    "    return parameters, v"
   ]
  },
  {
   "cell_type": "markdown",
   "metadata": {
    "id": "k_DvOLijfIFK"
   },
   "source": [
    "3. Modify the Training Loop\n"
   ]
  },
  {
   "cell_type": "code",
   "execution_count": 20,
   "metadata": {
    "id": "uz3jxDtCfIuA"
   },
   "outputs": [],
   "source": [
    "def train_model(X_train, y_train, hidden_size, epochs=50, learning_rate=0.01, optimizer='sgd'):\n",
    "    \"\"\"\n",
    "    Train the neural network model using specified optimizer.\n",
    "\n",
    "    Parameters:\n",
    "    - X_train: Training data.\n",
    "    - y_train: One-hot encoded labels.\n",
    "    - hidden_size: Number of neurons in the hidden layer.\n",
    "    - epochs: Number of training epochs.\n",
    "    - learning_rate: Learning rate for optimization.\n",
    "    - optimizer: The optimizer to use ('sgd' or 'momentum').\n",
    "\n",
    "    Returns:\n",
    "    - loss_history: List of loss values over epochs.\n",
    "    \"\"\"\n",
    "    parameters = initialize_parameters(X_train.shape[1], hidden_size, y_train.shape[1])\n",
    "\n",
    "    if optimizer != 'sgd':\n",
    "        v = initialize_momentum(parameters)\n",
    "\n",
    "    cache = None\n",
    "    gradients = None\n",
    "    losses = []\n",
    "\n",
    "    print(f\"Training with hidden layer size: {hidden_size}\")\n",
    "\n",
    "    for i in range(epochs):\n",
    "        epoch_losses = []\n",
    "        for X, y in zip(X_train, y_train):\n",
    "            X = X.reshape(1, -1)\n",
    "            y = y.reshape(1, -1)\n",
    "\n",
    "            y_pred, cache = forward_propagation(X, parameters)\n",
    "\n",
    "            gradients = backward_propagation(X, y, parameters, cache)\n",
    "\n",
    "            if optimizer == 'sgd':\n",
    "                parameters = update_parameters_with_sgd(parameters, gradients, learning_rate)\n",
    "            else:\n",
    "                parameters, v = update_parameters_with_momentum(parameters, gradients, v, learning_rate=learning_rate)\n",
    "\n",
    "            epoch_losses.append(compute_loss(y_pred=y_pred, y_true=y))\n",
    "\n",
    "        losses.append(np.mean(epoch_losses))\n",
    "\n",
    "        if ((i+1) % 10) == 0:\n",
    "            print(f\"Epoch {i+1}, Loss: {np.round(losses[i], 3)}\")\n",
    "\n",
    "    return losses"
   ]
  },
  {
   "cell_type": "markdown",
   "metadata": {
    "id": "wVbv6XeYfLbf"
   },
   "source": [
    "4. Train the Model with Both Optimizers\n"
   ]
  },
  {
   "cell_type": "code",
   "execution_count": 21,
   "metadata": {
    "colab": {
     "base_uri": "https://localhost:8080/"
    },
    "id": "0zEcNXJGfOTf",
    "outputId": "d3b45bc5-27bc-40b0-aee2-4061b2f98dbe"
   },
   "outputs": [
    {
     "name": "stdout",
     "output_type": "stream",
     "text": [
      "SGD\n",
      "Training with hidden layer size: 32\n",
      "Epoch 10, Loss: 0.311\n",
      "Epoch 20, Loss: 0.27\n",
      "Epoch 30, Loss: 0.25\n",
      "Epoch 40, Loss: 0.234\n",
      "Epoch 50, Loss: 0.224\n",
      "\n",
      "SGD + Momentum\n",
      "Training with hidden layer size: 32\n",
      "Epoch 10, Loss: 2.156\n",
      "Epoch 20, Loss: 2.167\n",
      "Epoch 30, Loss: 2.134\n",
      "Epoch 40, Loss: 2.128\n",
      "Epoch 50, Loss: 2.139\n",
      "\n"
     ]
    },
    {
     "data": {
      "image/png": "[encoded data removed]",
      "text/plain": [
       "<Figure size 640x480 with 1 Axes>"
      ]
     },
     "metadata": {},
     "output_type": "display_data"
    }
   ],
   "source": [
    "def compare_sgd_and_momentum(X_train, y_train, hidden_size, epochs=50):\n",
    "    \"\"\"\n",
    "    Compare the performance of classic SGD and SGD with momentum.\n",
    "\n",
    "    Parameters:\n",
    "    - X_train: Training data.\n",
    "    - y_train: One-hot encoded labels.\n",
    "    - hidden_size: Number of neurons in the hidden layer.\n",
    "    - epochs: Number of training epochs.\n",
    "    \"\"\"\n",
    "    colors = plt.colormaps['tab10']\n",
    "\n",
    "    print(\"SGD\")\n",
    "    sgd_losses = train_model(X_train, y_train, hidden_size, epochs=epochs, optimizer='sgd')\n",
    "    print(\"\")\n",
    "    plt.plot(range(1, epochs+1), sgd_losses, marker='o', linestyle='--', label='SGD', color=colors(0))\n",
    "\n",
    "    print(\"SGD + Momentum\")\n",
    "    sgd_momentum_losses = train_model(X_train, y_train, hidden_size, epochs=epochs, optimizer='sgd_momentum')\n",
    "    print(\"\")\n",
    "    plt.plot(range(1, epochs+1), sgd_momentum_losses, marker='o', linestyle='--', label='SGD + Momentum', color=colors(1 / 2))\n",
    "\n",
    "    plt.title('SGD vs SGD + Momentum')\n",
    "    plt.xlabel('epoch')\n",
    "    plt.ylabel('Loss')\n",
    "\n",
    "    plt.grid()\n",
    "    plt.legend()\n",
    "    plt.show()\n",
    "\n",
    "compare_sgd_and_momentum(x_train, y_train, 32, epochs=50)"
   ]
  },
  {
   "cell_type": "markdown",
   "metadata": {
    "id": "OhaXIjuClXP6"
   },
   "source": [
    "## Mini-Batch Gradient Descent"
   ]
  },
  {
   "cell_type": "markdown",
   "metadata": {
    "id": "wpBVHm6elXP6"
   },
   "source": [
    "### Mini-Batch Size Optimization"
   ]
  },
  {
   "cell_type": "markdown",
   "metadata": {
    "id": "rUDwKXOAgc2h"
   },
   "source": [
    "TODO: Investigate how different mini-batch sizes affect model performance, you can set up an experiment where you train the same model using various mini-batch sizes.\n",
    "\n",
    "Steps for Implementing the Mini-Batch Size Experiment\n",
    "\n",
    "1. Modify the Training Loop: Update the training loop to use mini-batches.\n",
    "2. Train the Model: Run the training process with a set of predefined mini-batch sizes.\n",
    "3. Evaluate Performance: Track training time and accuracy for each mini-batch size.\n",
    "4. Print the training losses and accuracies for comparison."
   ]
  },
  {
   "cell_type": "markdown",
   "metadata": {
    "id": "sz2dJu_PgvJH"
   },
   "source": [
    "1. Modify the Training Loop for Mini-Batches\n"
   ]
  },
  {
   "cell_type": "code",
   "execution_count": 22,
   "metadata": {
    "id": "2eBWqUKwgqqN"
   },
   "outputs": [],
   "source": [
    "def train_model_with_mini_batches(X_train, y_train, hidden_size, epochs=50, learning_rate=0.01, batch_size=32):\n",
    "    \"\"\"\n",
    "    Train the neural network model using mini-batches.\n",
    "\n",
    "    Parameters:\n",
    "    - X_train: Training data.\n",
    "    - y_train: One-hot encoded labels.\n",
    "    - hidden_size: Number of neurons in the hidden layer.\n",
    "    - epochs: Number of training epochs.\n",
    "    - learning_rate: Learning rate for optimization.\n",
    "    - batch_size: Size of mini-batches.\n",
    "\n",
    "    Returns:\n",
    "    - loss_history: List of loss values over epochs.\n",
    "    - accuracy_history: List of accuracy values over epochs.\n",
    "    \"\"\"\n",
    "    parameters = initialize_parameters(X_train.shape[1], hidden_size, y_train.shape[1])\n",
    "    \n",
    "    v = initialize_momentum(parameters)\n",
    "\n",
    "    cache = None\n",
    "    gradients = None\n",
    "    losses = []\n",
    "\n",
    "    n = X_train.shape[0]\n",
    "\n",
    "    random_indices = np.random.permutation(X_train.shape[0])\n",
    "\n",
    "    X_train = X_train[random_indices]\n",
    "    y_train = y_train[random_indices]\n",
    "\n",
    "    batches = [(X_train[i: min(i + batch_size, n)], y_train[i: min(i + batch_size, n)]) for i in range(0, n, batch_size)]\n",
    "\n",
    "    print(f\"Training with hidden layer size: {hidden_size}\")\n",
    "\n",
    "    for i in range(epochs):\n",
    "        epoch_losses = []\n",
    "        for X_batch, y_batch in batches:\n",
    "            y_pred, cache = forward_propagation(X_batch, parameters)\n",
    "\n",
    "            gradients = backward_propagation(X_batch, y_batch, parameters, cache)\n",
    "\n",
    "            parameters, v = update_parameters_with_momentum(parameters, gradients, v, learning_rate=learning_rate)\n",
    "\n",
    "            epoch_losses.append(compute_loss(y_pred=y_pred, y_true=y_batch))\n",
    "\n",
    "        losses.append(np.mean(epoch_losses))\n",
    "\n",
    "        if ((i+1) % 10) == 0:\n",
    "            print(f\"Epoch {i+1}, Loss: {np.round(losses[i], 3)}\")\n",
    "\n",
    "    return losses"
   ]
  },
  {
   "cell_type": "markdown",
   "metadata": {
    "id": "ja1aWHjwgwMl"
   },
   "source": [
    "2. Train the Model with Different Mini-Batch Sizes\n"
   ]
  },
  {
   "cell_type": "code",
   "execution_count": 23,
   "metadata": {
    "id": "R7vvj-y_is_k"
   },
   "outputs": [
    {
     "name": "stdout",
     "output_type": "stream",
     "text": [
      "batch size: 16\n",
      "Training with hidden layer size: 32\n",
      "Epoch 10, Loss: 0.303\n",
      "Epoch 20, Loss: 0.264\n",
      "Epoch 30, Loss: 0.24\n",
      "Epoch 40, Loss: 0.225\n",
      "Epoch 50, Loss: 0.212\n",
      "\n",
      "batch size: 32\n",
      "Training with hidden layer size: 32\n",
      "Epoch 10, Loss: 0.313\n",
      "Epoch 20, Loss: 0.27\n",
      "Epoch 30, Loss: 0.243\n",
      "Epoch 40, Loss: 0.223\n",
      "Epoch 50, Loss: 0.208\n",
      "\n",
      "batch size: 64\n",
      "Training with hidden layer size: 32\n",
      "Epoch 10, Loss: 0.325\n",
      "Epoch 20, Loss: 0.281\n",
      "Epoch 30, Loss: 0.254\n",
      "Epoch 40, Loss: 0.234\n",
      "Epoch 50, Loss: 0.219\n",
      "\n"
     ]
    },
    {
     "data": {
      "image/png": "[encoded data removed]",
      "text/plain": [
       "<Figure size 640x480 with 1 Axes>"
      ]
     },
     "metadata": {},
     "output_type": "display_data"
    }
   ],
   "source": [
    "def compare_mini_batch_sizes(X_train, y_train, hidden_size, epochs=50, batch_sizes=[16, 32, 64]):\n",
    "    \"\"\"\n",
    "    Compare the performance of different mini-batch sizes and print results.\n",
    "\n",
    "    Parameters:\n",
    "    - X_train: Training data.\n",
    "    - y_train: One-hot encoded labels.\n",
    "    - hidden_size: Number of neurons in the hidden layer.\n",
    "    - epochs: Number of training epochs.\n",
    "    - batch_sizes: List of mini-batch sizes to test.\n",
    "    \"\"\"\n",
    "    losses = {}\n",
    "\n",
    "    colors = plt.colormaps['tab10']\n",
    "\n",
    "    for i, batch_size in enumerate(batch_sizes):\n",
    "        print(f\"batch size: {batch_size}\")\n",
    "        losses[batch_size] = train_model_with_mini_batches(X_train, y_train, hidden_size, epochs=epochs, batch_size=batch_size)\n",
    "        print(\"\")\n",
    "\n",
    "        plt.plot(range(1, epochs+1), losses[batch_size], marker='o', linestyle='--', label=f'batch size = {batch_sizes[i]}', color=colors(i / len(batch_sizes)))\n",
    "\n",
    "    plt.title(f'loss function with different batch size')\n",
    "\n",
    "    plt.xlabel('epoch')\n",
    "    plt.ylabel('Loss')\n",
    "\n",
    "    plt.grid()\n",
    "    plt.legend()\n",
    "    plt.show()\n",
    "\n",
    "compare_mini_batch_sizes(x_train, y_train, 32, epochs=50)"
   ]
  },
  {
   "cell_type": "markdown",
   "metadata": {
    "id": "wb3WXFgMlXP7"
   },
   "source": [
    "### Mini-Batch vs. Full-Batch Gradient Descent\n"
   ]
  },
  {
   "cell_type": "markdown",
   "metadata": {
    "id": "vVvy9f6PlPCS"
   },
   "source": [
    "TODO: Compare the efficiency and performance of mini-batch gradient descent against full-batch gradient descent.\n",
    "\n",
    "1. Implement Full-Batch Gradient Descent: Ensure you have a full-batch gradient descent implementation.\n",
    "\n",
    "2. Modify the Training Loop: Allow the training loop to handle both mini-batch and full-batch scenarios.\n",
    "\n",
    "3. Train the Model: Run the training process using both methods and track their performance.\n",
    "\n",
    "4. Print Results: Display the final loss and accuracy for both methods along with training times."
   ]
  },
  {
   "cell_type": "code",
   "execution_count": 24,
   "metadata": {
    "id": "tlTYBB2tlgBG"
   },
   "outputs": [],
   "source": [
    "def train_model_full_batch(X_train, y_train, hidden_size, epochs=50, learning_rate=0.01):\n",
    "    \"\"\"\n",
    "    Train the neural network model using full-batch gradient descent.\n",
    "\n",
    "    Parameters:\n",
    "    - X_train: Training data.\n",
    "    - y_train: One-hot encoded labels.\n",
    "    - hidden_size: Number of neurons in the hidden layer.\n",
    "    - epochs: Number of training epochs.\n",
    "    - learning_rate: Learning rate for optimization.\n",
    "\n",
    "    Returns:\n",
    "    - loss_history: List of loss values over epochs.\n",
    "    - accuracy_history: List of accuracy values over epochs.\n",
    "    \"\"\"\n",
    "    parameters = initialize_parameters(X_train.shape[1], hidden_size, y_train.shape[1])\n",
    "\n",
    "    cache = None\n",
    "    gradients = None\n",
    "    losses = []\n",
    "    accuracies = []\n",
    "\n",
    "    print(f\"Training with hidden layer size: {hidden_size}\")\n",
    "\n",
    "    for i in range(epochs):\n",
    "        y_pred, cache = forward_propagation(X_train, parameters)\n",
    "\n",
    "        gradients = backward_propagation(X_train, y_train, parameters, cache)\n",
    "\n",
    "        parameters = update_parameters(parameters, gradients, learning_rate)\n",
    "\n",
    "        losses.append(compute_loss(y_pred=y_pred, y_true=y_train))\n",
    "\n",
    "        accuracy = np.mean((y_pred >= np.max(y_pred, axis=1, keepdims=True)).astype(float) * y_train)\n",
    "        accuracies.append(accuracy)\n",
    "\n",
    "        if ((i+1) % 10) == 0:\n",
    "            print(f\"Epoch {i+1}, Loss: {np.round(losses[i], 3)}\")\n",
    "\n",
    "    return losses, accuracies"
   ]
  },
  {
   "cell_type": "code",
   "execution_count": 25,
   "metadata": {
    "id": "YIb4-9eGllGi"
   },
   "outputs": [
    {
     "name": "stdout",
     "output_type": "stream",
     "text": [
      "mini batch:\n",
      "Training with hidden layer size: 32\n",
      "Epoch 10, Loss: 0.307\n",
      "Epoch 20, Loss: 0.264\n",
      "Epoch 30, Loss: 0.24\n",
      "Epoch 40, Loss: 0.221\n",
      "Epoch 50, Loss: 0.208\n",
      "\n",
      "full batch\n",
      "Training with hidden layer size: 32\n",
      "Epoch 10, Loss: 2.402\n",
      "Epoch 20, Loss: 2.279\n",
      "Epoch 30, Loss: 2.195\n",
      "Epoch 40, Loss: 2.128\n",
      "Epoch 50, Loss: 2.068\n",
      "\n"
     ]
    },
    {
     "data": {
      "image/png": "[encoded data removed]",
      "text/plain": [
       "<Figure size 640x480 with 1 Axes>"
      ]
     },
     "metadata": {},
     "output_type": "display_data"
    }
   ],
   "source": [
    "def compare_mini_batch_and_full_batch(X_train, y_train, hidden_size, epochs=50, batch_size=32):\n",
    "    \"\"\"\n",
    "    Compare the performance of mini-batch gradient descent against full-batch gradient descent.\n",
    "\n",
    "    Parameters:\n",
    "    - X_train: Training data.\n",
    "    - y_train: One-hot encoded labels.\n",
    "    - hidden_size: Number of neurons in the hidden layer.\n",
    "    - epochs: Number of training epochs.\n",
    "    - batch_size: Size of mini-batches for mini-batch gradient descent.\n",
    "    \"\"\"\n",
    "    colors = plt.colormaps['tab10']\n",
    "\n",
    "    print(\"mini batch:\")\n",
    "    mini_batch_losses = train_model_with_mini_batches(X_train, y_train, hidden_size, epochs=epochs, batch_size=batch_size)\n",
    "    print(\"\")\n",
    "    plt.plot(range(1, epochs+1), mini_batch_losses, marker='o', linestyle='--', label='mini batch', color=colors(0))\n",
    "\n",
    "    print(\"full batch\")\n",
    "    full_batch_losses, full_batch_accuracies = train_model_full_batch(X_train, y_train, hidden_size, epochs=epochs)\n",
    "    print(\"\")\n",
    "    plt.plot(range(1, epochs+1), full_batch_losses, marker='o', linestyle='--', label='full batch', color=colors(1 / 2))\n",
    "\n",
    "    plt.title(f'mini batch(batch size: {batch_size}) vs full batch')\n",
    "\n",
    "    plt.xlabel('epoch')\n",
    "    plt.ylabel('Loss')\n",
    "\n",
    "    plt.grid()\n",
    "    plt.legend()\n",
    "    plt.show()\n",
    "\n",
    "compare_mini_batch_and_full_batch(x_train, y_train, 32, epochs=50)"
   ]
  },
  {
   "cell_type": "code",
   "execution_count": null,
   "metadata": {},
   "outputs": [],
   "source": []
  }
 ],
 "metadata": {
  "colab": {
   "provenance": []
  },
  "kernelspec": {
   "display_name": "Python 3",
   "name": "python3"
  },
  "language_info": {
   "codemirror_mode": {
    "name": "ipython",
    "version": 3
   },
   "file_extension": ".py",
   "mimetype": "text/x-python",
   "name": "python",
   "nbconvert_exporter": "python",
   "pygments_lexer": "ipython3",
   "version": "3.12.0"
  }
 },
 "nbformat": 4,
 "nbformat_minor": 0
}
